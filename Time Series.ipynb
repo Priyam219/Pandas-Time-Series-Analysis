{
 "cells": [
  {
   "cell_type": "code",
   "execution_count": 1,
   "id": "ebd9330d",
   "metadata": {},
   "outputs": [],
   "source": [
    "import pandas as pd"
   ]
  },
  {
   "cell_type": "code",
   "execution_count": 2,
   "id": "c03d6da9",
   "metadata": {},
   "outputs": [],
   "source": [
    "df = pd.read_csv(r'C:\\Users\\PRIYAM\\Downloads\\TCS.NS.csv',parse_dates=[\"Date\"])"
   ]
  },
  {
   "cell_type": "code",
   "execution_count": 3,
   "id": "0ae2df84",
   "metadata": {
    "scrolled": true
   },
   "outputs": [
    {
     "data": {
      "text/html": [
       "<div>\n",
       "<style scoped>\n",
       "    .dataframe tbody tr th:only-of-type {\n",
       "        vertical-align: middle;\n",
       "    }\n",
       "\n",
       "    .dataframe tbody tr th {\n",
       "        vertical-align: top;\n",
       "    }\n",
       "\n",
       "    .dataframe thead th {\n",
       "        text-align: right;\n",
       "    }\n",
       "</style>\n",
       "<table border=\"1\" class=\"dataframe\">\n",
       "  <thead>\n",
       "    <tr style=\"text-align: right;\">\n",
       "      <th></th>\n",
       "      <th>Date</th>\n",
       "      <th>Open</th>\n",
       "      <th>High</th>\n",
       "      <th>Low</th>\n",
       "      <th>Close</th>\n",
       "      <th>Adj Close</th>\n",
       "      <th>Volume</th>\n",
       "    </tr>\n",
       "  </thead>\n",
       "  <tbody>\n",
       "    <tr>\n",
       "      <th>0</th>\n",
       "      <td>2022-02-21</td>\n",
       "      <td>3810.000000</td>\n",
       "      <td>3827.800049</td>\n",
       "      <td>3705.550049</td>\n",
       "      <td>3719.399902</td>\n",
       "      <td>3602.304443</td>\n",
       "      <td>7465922</td>\n",
       "    </tr>\n",
       "    <tr>\n",
       "      <th>1</th>\n",
       "      <td>2022-02-22</td>\n",
       "      <td>3650.000000</td>\n",
       "      <td>3667.899902</td>\n",
       "      <td>3570.000000</td>\n",
       "      <td>3586.399902</td>\n",
       "      <td>3473.491699</td>\n",
       "      <td>5408531</td>\n",
       "    </tr>\n",
       "    <tr>\n",
       "      <th>2</th>\n",
       "      <td>2022-02-23</td>\n",
       "      <td>3611.000000</td>\n",
       "      <td>3622.899902</td>\n",
       "      <td>3555.649902</td>\n",
       "      <td>3563.800049</td>\n",
       "      <td>3451.603516</td>\n",
       "      <td>2426203</td>\n",
       "    </tr>\n",
       "    <tr>\n",
       "      <th>3</th>\n",
       "      <td>2022-02-24</td>\n",
       "      <td>3474.000000</td>\n",
       "      <td>3483.850098</td>\n",
       "      <td>3391.100098</td>\n",
       "      <td>3401.649902</td>\n",
       "      <td>3294.558105</td>\n",
       "      <td>5039136</td>\n",
       "    </tr>\n",
       "    <tr>\n",
       "      <th>4</th>\n",
       "      <td>2022-02-25</td>\n",
       "      <td>3468.000000</td>\n",
       "      <td>3530.000000</td>\n",
       "      <td>3462.000000</td>\n",
       "      <td>3520.750000</td>\n",
       "      <td>3409.908691</td>\n",
       "      <td>2549723</td>\n",
       "    </tr>\n",
       "    <tr>\n",
       "      <th>5</th>\n",
       "      <td>2022-02-28</td>\n",
       "      <td>3490.000000</td>\n",
       "      <td>3563.750000</td>\n",
       "      <td>3455.899902</td>\n",
       "      <td>3554.199951</td>\n",
       "      <td>3442.305176</td>\n",
       "      <td>3288942</td>\n",
       "    </tr>\n",
       "    <tr>\n",
       "      <th>6</th>\n",
       "      <td>2022-03-02</td>\n",
       "      <td>3552.500000</td>\n",
       "      <td>3571.949951</td>\n",
       "      <td>3506.000000</td>\n",
       "      <td>3546.149902</td>\n",
       "      <td>3434.509033</td>\n",
       "      <td>2761341</td>\n",
       "    </tr>\n",
       "    <tr>\n",
       "      <th>7</th>\n",
       "      <td>2022-03-03</td>\n",
       "      <td>3562.850098</td>\n",
       "      <td>3578.600098</td>\n",
       "      <td>3530.100098</td>\n",
       "      <td>3544.399902</td>\n",
       "      <td>3432.813965</td>\n",
       "      <td>1928039</td>\n",
       "    </tr>\n",
       "    <tr>\n",
       "      <th>8</th>\n",
       "      <td>2022-03-04</td>\n",
       "      <td>3501.500000</td>\n",
       "      <td>3561.199951</td>\n",
       "      <td>3487.050049</td>\n",
       "      <td>3524.350098</td>\n",
       "      <td>3413.395508</td>\n",
       "      <td>2370257</td>\n",
       "    </tr>\n",
       "    <tr>\n",
       "      <th>9</th>\n",
       "      <td>2022-03-07</td>\n",
       "      <td>3450.000000</td>\n",
       "      <td>3548.000000</td>\n",
       "      <td>3431.550049</td>\n",
       "      <td>3484.899902</td>\n",
       "      <td>3375.187256</td>\n",
       "      <td>3054130</td>\n",
       "    </tr>\n",
       "  </tbody>\n",
       "</table>\n",
       "</div>"
      ],
      "text/plain": [
       "        Date         Open         High          Low        Close    Adj Close  \\\n",
       "0 2022-02-21  3810.000000  3827.800049  3705.550049  3719.399902  3602.304443   \n",
       "1 2022-02-22  3650.000000  3667.899902  3570.000000  3586.399902  3473.491699   \n",
       "2 2022-02-23  3611.000000  3622.899902  3555.649902  3563.800049  3451.603516   \n",
       "3 2022-02-24  3474.000000  3483.850098  3391.100098  3401.649902  3294.558105   \n",
       "4 2022-02-25  3468.000000  3530.000000  3462.000000  3520.750000  3409.908691   \n",
       "5 2022-02-28  3490.000000  3563.750000  3455.899902  3554.199951  3442.305176   \n",
       "6 2022-03-02  3552.500000  3571.949951  3506.000000  3546.149902  3434.509033   \n",
       "7 2022-03-03  3562.850098  3578.600098  3530.100098  3544.399902  3432.813965   \n",
       "8 2022-03-04  3501.500000  3561.199951  3487.050049  3524.350098  3413.395508   \n",
       "9 2022-03-07  3450.000000  3548.000000  3431.550049  3484.899902  3375.187256   \n",
       "\n",
       "    Volume  \n",
       "0  7465922  \n",
       "1  5408531  \n",
       "2  2426203  \n",
       "3  5039136  \n",
       "4  2549723  \n",
       "5  3288942  \n",
       "6  2761341  \n",
       "7  1928039  \n",
       "8  2370257  \n",
       "9  3054130  "
      ]
     },
     "execution_count": 3,
     "metadata": {},
     "output_type": "execute_result"
    }
   ],
   "source": [
    "df.head(10)"
   ]
  },
  {
   "cell_type": "code",
   "execution_count": 4,
   "id": "de3eb6a5",
   "metadata": {},
   "outputs": [
    {
     "data": {
      "text/plain": [
       "pandas._libs.tslibs.timestamps.Timestamp"
      ]
     },
     "execution_count": 4,
     "metadata": {},
     "output_type": "execute_result"
    }
   ],
   "source": [
    "type(df.Date[0])"
   ]
  },
  {
   "cell_type": "code",
   "execution_count": 5,
   "id": "5d41f3d9",
   "metadata": {},
   "outputs": [],
   "source": [
    "df = pd.read_csv(r\"C:\\Users\\PRIYAM\\Downloads\\TCS.NS.csv\",parse_dates=[\"Date\"],index_col=\"Date\")"
   ]
  },
  {
   "cell_type": "code",
   "execution_count": 6,
   "id": "5cb132ca",
   "metadata": {},
   "outputs": [
    {
     "data": {
      "text/html": [
       "<div>\n",
       "<style scoped>\n",
       "    .dataframe tbody tr th:only-of-type {\n",
       "        vertical-align: middle;\n",
       "    }\n",
       "\n",
       "    .dataframe tbody tr th {\n",
       "        vertical-align: top;\n",
       "    }\n",
       "\n",
       "    .dataframe thead th {\n",
       "        text-align: right;\n",
       "    }\n",
       "</style>\n",
       "<table border=\"1\" class=\"dataframe\">\n",
       "  <thead>\n",
       "    <tr style=\"text-align: right;\">\n",
       "      <th></th>\n",
       "      <th>Open</th>\n",
       "      <th>High</th>\n",
       "      <th>Low</th>\n",
       "      <th>Close</th>\n",
       "      <th>Adj Close</th>\n",
       "      <th>Volume</th>\n",
       "    </tr>\n",
       "    <tr>\n",
       "      <th>Date</th>\n",
       "      <th></th>\n",
       "      <th></th>\n",
       "      <th></th>\n",
       "      <th></th>\n",
       "      <th></th>\n",
       "      <th></th>\n",
       "    </tr>\n",
       "  </thead>\n",
       "  <tbody>\n",
       "    <tr>\n",
       "      <th>2022-02-21</th>\n",
       "      <td>3810.0</td>\n",
       "      <td>3827.800049</td>\n",
       "      <td>3705.550049</td>\n",
       "      <td>3719.399902</td>\n",
       "      <td>3602.304443</td>\n",
       "      <td>7465922</td>\n",
       "    </tr>\n",
       "    <tr>\n",
       "      <th>2022-02-22</th>\n",
       "      <td>3650.0</td>\n",
       "      <td>3667.899902</td>\n",
       "      <td>3570.000000</td>\n",
       "      <td>3586.399902</td>\n",
       "      <td>3473.491699</td>\n",
       "      <td>5408531</td>\n",
       "    </tr>\n",
       "    <tr>\n",
       "      <th>2022-02-23</th>\n",
       "      <td>3611.0</td>\n",
       "      <td>3622.899902</td>\n",
       "      <td>3555.649902</td>\n",
       "      <td>3563.800049</td>\n",
       "      <td>3451.603516</td>\n",
       "      <td>2426203</td>\n",
       "    </tr>\n",
       "    <tr>\n",
       "      <th>2022-02-24</th>\n",
       "      <td>3474.0</td>\n",
       "      <td>3483.850098</td>\n",
       "      <td>3391.100098</td>\n",
       "      <td>3401.649902</td>\n",
       "      <td>3294.558105</td>\n",
       "      <td>5039136</td>\n",
       "    </tr>\n",
       "    <tr>\n",
       "      <th>2022-02-25</th>\n",
       "      <td>3468.0</td>\n",
       "      <td>3530.000000</td>\n",
       "      <td>3462.000000</td>\n",
       "      <td>3520.750000</td>\n",
       "      <td>3409.908691</td>\n",
       "      <td>2549723</td>\n",
       "    </tr>\n",
       "  </tbody>\n",
       "</table>\n",
       "</div>"
      ],
      "text/plain": [
       "              Open         High          Low        Close    Adj Close  \\\n",
       "Date                                                                     \n",
       "2022-02-21  3810.0  3827.800049  3705.550049  3719.399902  3602.304443   \n",
       "2022-02-22  3650.0  3667.899902  3570.000000  3586.399902  3473.491699   \n",
       "2022-02-23  3611.0  3622.899902  3555.649902  3563.800049  3451.603516   \n",
       "2022-02-24  3474.0  3483.850098  3391.100098  3401.649902  3294.558105   \n",
       "2022-02-25  3468.0  3530.000000  3462.000000  3520.750000  3409.908691   \n",
       "\n",
       "             Volume  \n",
       "Date                 \n",
       "2022-02-21  7465922  \n",
       "2022-02-22  5408531  \n",
       "2022-02-23  2426203  \n",
       "2022-02-24  5039136  \n",
       "2022-02-25  2549723  "
      ]
     },
     "execution_count": 6,
     "metadata": {},
     "output_type": "execute_result"
    }
   ],
   "source": [
    "df[0:5]"
   ]
  },
  {
   "cell_type": "code",
   "execution_count": 7,
   "id": "aa64ff8a",
   "metadata": {},
   "outputs": [
    {
     "data": {
      "text/plain": [
       "DatetimeIndex(['2022-02-21', '2022-02-22', '2022-02-23', '2022-02-24',\n",
       "               '2022-02-25', '2022-02-28', '2022-03-02', '2022-03-03',\n",
       "               '2022-03-04', '2022-03-07',\n",
       "               ...\n",
       "               '2023-02-06', '2023-02-07', '2023-02-08', '2023-02-09',\n",
       "               '2023-02-10', '2023-02-13', '2023-02-14', '2023-02-15',\n",
       "               '2023-02-16', '2023-02-17'],\n",
       "              dtype='datetime64[ns]', name='Date', length=248, freq=None)"
      ]
     },
     "execution_count": 7,
     "metadata": {},
     "output_type": "execute_result"
    }
   ],
   "source": [
    "df.index\n"
   ]
  },
  {
   "cell_type": "markdown",
   "id": "0a832a1b",
   "metadata": {},
   "source": [
    "# Retrieving data of only august of 2022 :"
   ]
  },
  {
   "cell_type": "code",
   "execution_count": 8,
   "id": "f14c78a7",
   "metadata": {
    "scrolled": true
   },
   "outputs": [
    {
     "name": "stderr",
     "output_type": "stream",
     "text": [
      "C:\\Users\\PRIYAM\\AppData\\Local\\Temp\\ipykernel_13380\\80577619.py:1: FutureWarning: Indexing a DataFrame with a datetimelike index using a single string to slice the rows, like `frame[string]`, is deprecated and will be removed in a future version. Use `frame.loc[string]` instead.\n",
      "  df['2022-07']\n"
     ]
    },
    {
     "data": {
      "text/html": [
       "<div>\n",
       "<style scoped>\n",
       "    .dataframe tbody tr th:only-of-type {\n",
       "        vertical-align: middle;\n",
       "    }\n",
       "\n",
       "    .dataframe tbody tr th {\n",
       "        vertical-align: top;\n",
       "    }\n",
       "\n",
       "    .dataframe thead th {\n",
       "        text-align: right;\n",
       "    }\n",
       "</style>\n",
       "<table border=\"1\" class=\"dataframe\">\n",
       "  <thead>\n",
       "    <tr style=\"text-align: right;\">\n",
       "      <th></th>\n",
       "      <th>Open</th>\n",
       "      <th>High</th>\n",
       "      <th>Low</th>\n",
       "      <th>Close</th>\n",
       "      <th>Adj Close</th>\n",
       "      <th>Volume</th>\n",
       "    </tr>\n",
       "    <tr>\n",
       "      <th>Date</th>\n",
       "      <th></th>\n",
       "      <th></th>\n",
       "      <th></th>\n",
       "      <th></th>\n",
       "      <th></th>\n",
       "      <th></th>\n",
       "    </tr>\n",
       "  </thead>\n",
       "  <tbody>\n",
       "    <tr>\n",
       "      <th>2022-07-01</th>\n",
       "      <td>3260.000000</td>\n",
       "      <td>3333.000000</td>\n",
       "      <td>3252.050049</td>\n",
       "      <td>3315.100098</td>\n",
       "      <td>3232.360840</td>\n",
       "      <td>1502879</td>\n",
       "    </tr>\n",
       "    <tr>\n",
       "      <th>2022-07-04</th>\n",
       "      <td>3312.000000</td>\n",
       "      <td>3317.949951</td>\n",
       "      <td>3225.050049</td>\n",
       "      <td>3235.050049</td>\n",
       "      <td>3154.308594</td>\n",
       "      <td>2622535</td>\n",
       "    </tr>\n",
       "    <tr>\n",
       "      <th>2022-07-05</th>\n",
       "      <td>3255.000000</td>\n",
       "      <td>3272.000000</td>\n",
       "      <td>3206.949951</td>\n",
       "      <td>3216.300049</td>\n",
       "      <td>3136.026611</td>\n",
       "      <td>2170627</td>\n",
       "    </tr>\n",
       "    <tr>\n",
       "      <th>2022-07-06</th>\n",
       "      <td>3218.500000</td>\n",
       "      <td>3268.500000</td>\n",
       "      <td>3202.250000</td>\n",
       "      <td>3260.750000</td>\n",
       "      <td>3179.367188</td>\n",
       "      <td>2182144</td>\n",
       "    </tr>\n",
       "    <tr>\n",
       "      <th>2022-07-07</th>\n",
       "      <td>3271.000000</td>\n",
       "      <td>3319.399902</td>\n",
       "      <td>3265.050049</td>\n",
       "      <td>3287.850098</td>\n",
       "      <td>3205.791016</td>\n",
       "      <td>1989921</td>\n",
       "    </tr>\n",
       "    <tr>\n",
       "      <th>2022-07-08</th>\n",
       "      <td>3300.000000</td>\n",
       "      <td>3305.000000</td>\n",
       "      <td>3250.000000</td>\n",
       "      <td>3265.449951</td>\n",
       "      <td>3183.949707</td>\n",
       "      <td>2136916</td>\n",
       "    </tr>\n",
       "    <tr>\n",
       "      <th>2022-07-11</th>\n",
       "      <td>3206.149902</td>\n",
       "      <td>3225.000000</td>\n",
       "      <td>3106.000000</td>\n",
       "      <td>3113.800049</td>\n",
       "      <td>3036.084717</td>\n",
       "      <td>6974600</td>\n",
       "    </tr>\n",
       "    <tr>\n",
       "      <th>2022-07-12</th>\n",
       "      <td>3114.899902</td>\n",
       "      <td>3136.199951</td>\n",
       "      <td>3080.250000</td>\n",
       "      <td>3084.699951</td>\n",
       "      <td>3007.710938</td>\n",
       "      <td>3734815</td>\n",
       "    </tr>\n",
       "    <tr>\n",
       "      <th>2022-07-13</th>\n",
       "      <td>3104.000000</td>\n",
       "      <td>3110.000000</td>\n",
       "      <td>3035.000000</td>\n",
       "      <td>3038.750000</td>\n",
       "      <td>2962.907715</td>\n",
       "      <td>3863530</td>\n",
       "    </tr>\n",
       "    <tr>\n",
       "      <th>2022-07-14</th>\n",
       "      <td>3056.000000</td>\n",
       "      <td>3057.000000</td>\n",
       "      <td>2967.000000</td>\n",
       "      <td>2998.750000</td>\n",
       "      <td>2931.624268</td>\n",
       "      <td>4764908</td>\n",
       "    </tr>\n",
       "    <tr>\n",
       "      <th>2022-07-15</th>\n",
       "      <td>3018.550049</td>\n",
       "      <td>3028.899902</td>\n",
       "      <td>2953.000000</td>\n",
       "      <td>2994.600098</td>\n",
       "      <td>2927.567139</td>\n",
       "      <td>4574806</td>\n",
       "    </tr>\n",
       "    <tr>\n",
       "      <th>2022-07-18</th>\n",
       "      <td>3023.000000</td>\n",
       "      <td>3076.949951</td>\n",
       "      <td>3014.300049</td>\n",
       "      <td>3063.500000</td>\n",
       "      <td>2994.924805</td>\n",
       "      <td>3202795</td>\n",
       "    </tr>\n",
       "    <tr>\n",
       "      <th>2022-07-19</th>\n",
       "      <td>3030.050049</td>\n",
       "      <td>3078.949951</td>\n",
       "      <td>3030.050049</td>\n",
       "      <td>3074.250000</td>\n",
       "      <td>3005.434326</td>\n",
       "      <td>1865074</td>\n",
       "    </tr>\n",
       "    <tr>\n",
       "      <th>2022-07-20</th>\n",
       "      <td>3107.800049</td>\n",
       "      <td>3171.949951</td>\n",
       "      <td>3098.050049</td>\n",
       "      <td>3164.800049</td>\n",
       "      <td>3093.957275</td>\n",
       "      <td>3402251</td>\n",
       "    </tr>\n",
       "    <tr>\n",
       "      <th>2022-07-21</th>\n",
       "      <td>3167.000000</td>\n",
       "      <td>3184.000000</td>\n",
       "      <td>3144.050049</td>\n",
       "      <td>3177.300049</td>\n",
       "      <td>3106.177490</td>\n",
       "      <td>2420640</td>\n",
       "    </tr>\n",
       "    <tr>\n",
       "      <th>2022-07-22</th>\n",
       "      <td>3185.000000</td>\n",
       "      <td>3197.000000</td>\n",
       "      <td>3143.500000</td>\n",
       "      <td>3171.000000</td>\n",
       "      <td>3100.018555</td>\n",
       "      <td>2075886</td>\n",
       "    </tr>\n",
       "    <tr>\n",
       "      <th>2022-07-25</th>\n",
       "      <td>3165.000000</td>\n",
       "      <td>3186.449951</td>\n",
       "      <td>3149.100098</td>\n",
       "      <td>3166.750000</td>\n",
       "      <td>3095.863525</td>\n",
       "      <td>1797504</td>\n",
       "    </tr>\n",
       "    <tr>\n",
       "      <th>2022-07-26</th>\n",
       "      <td>3164.699951</td>\n",
       "      <td>3168.899902</td>\n",
       "      <td>3096.500000</td>\n",
       "      <td>3115.899902</td>\n",
       "      <td>3046.151855</td>\n",
       "      <td>2639367</td>\n",
       "    </tr>\n",
       "    <tr>\n",
       "      <th>2022-07-27</th>\n",
       "      <td>3115.000000</td>\n",
       "      <td>3194.100098</td>\n",
       "      <td>3110.000000</td>\n",
       "      <td>3188.850098</td>\n",
       "      <td>3117.468994</td>\n",
       "      <td>1389808</td>\n",
       "    </tr>\n",
       "    <tr>\n",
       "      <th>2022-07-28</th>\n",
       "      <td>3216.000000</td>\n",
       "      <td>3264.000000</td>\n",
       "      <td>3201.649902</td>\n",
       "      <td>3260.500000</td>\n",
       "      <td>3187.514893</td>\n",
       "      <td>2106333</td>\n",
       "    </tr>\n",
       "    <tr>\n",
       "      <th>2022-07-29</th>\n",
       "      <td>3290.000000</td>\n",
       "      <td>3317.300049</td>\n",
       "      <td>3275.000000</td>\n",
       "      <td>3301.899902</td>\n",
       "      <td>3227.988037</td>\n",
       "      <td>2430257</td>\n",
       "    </tr>\n",
       "  </tbody>\n",
       "</table>\n",
       "</div>"
      ],
      "text/plain": [
       "                   Open         High          Low        Close    Adj Close  \\\n",
       "Date                                                                          \n",
       "2022-07-01  3260.000000  3333.000000  3252.050049  3315.100098  3232.360840   \n",
       "2022-07-04  3312.000000  3317.949951  3225.050049  3235.050049  3154.308594   \n",
       "2022-07-05  3255.000000  3272.000000  3206.949951  3216.300049  3136.026611   \n",
       "2022-07-06  3218.500000  3268.500000  3202.250000  3260.750000  3179.367188   \n",
       "2022-07-07  3271.000000  3319.399902  3265.050049  3287.850098  3205.791016   \n",
       "2022-07-08  3300.000000  3305.000000  3250.000000  3265.449951  3183.949707   \n",
       "2022-07-11  3206.149902  3225.000000  3106.000000  3113.800049  3036.084717   \n",
       "2022-07-12  3114.899902  3136.199951  3080.250000  3084.699951  3007.710938   \n",
       "2022-07-13  3104.000000  3110.000000  3035.000000  3038.750000  2962.907715   \n",
       "2022-07-14  3056.000000  3057.000000  2967.000000  2998.750000  2931.624268   \n",
       "2022-07-15  3018.550049  3028.899902  2953.000000  2994.600098  2927.567139   \n",
       "2022-07-18  3023.000000  3076.949951  3014.300049  3063.500000  2994.924805   \n",
       "2022-07-19  3030.050049  3078.949951  3030.050049  3074.250000  3005.434326   \n",
       "2022-07-20  3107.800049  3171.949951  3098.050049  3164.800049  3093.957275   \n",
       "2022-07-21  3167.000000  3184.000000  3144.050049  3177.300049  3106.177490   \n",
       "2022-07-22  3185.000000  3197.000000  3143.500000  3171.000000  3100.018555   \n",
       "2022-07-25  3165.000000  3186.449951  3149.100098  3166.750000  3095.863525   \n",
       "2022-07-26  3164.699951  3168.899902  3096.500000  3115.899902  3046.151855   \n",
       "2022-07-27  3115.000000  3194.100098  3110.000000  3188.850098  3117.468994   \n",
       "2022-07-28  3216.000000  3264.000000  3201.649902  3260.500000  3187.514893   \n",
       "2022-07-29  3290.000000  3317.300049  3275.000000  3301.899902  3227.988037   \n",
       "\n",
       "             Volume  \n",
       "Date                 \n",
       "2022-07-01  1502879  \n",
       "2022-07-04  2622535  \n",
       "2022-07-05  2170627  \n",
       "2022-07-06  2182144  \n",
       "2022-07-07  1989921  \n",
       "2022-07-08  2136916  \n",
       "2022-07-11  6974600  \n",
       "2022-07-12  3734815  \n",
       "2022-07-13  3863530  \n",
       "2022-07-14  4764908  \n",
       "2022-07-15  4574806  \n",
       "2022-07-18  3202795  \n",
       "2022-07-19  1865074  \n",
       "2022-07-20  3402251  \n",
       "2022-07-21  2420640  \n",
       "2022-07-22  2075886  \n",
       "2022-07-25  1797504  \n",
       "2022-07-26  2639367  \n",
       "2022-07-27  1389808  \n",
       "2022-07-28  2106333  \n",
       "2022-07-29  2430257  "
      ]
     },
     "execution_count": 8,
     "metadata": {},
     "output_type": "execute_result"
    }
   ],
   "source": [
    "df['2022-07']"
   ]
  },
  {
   "cell_type": "markdown",
   "id": "35c22107",
   "metadata": {},
   "source": [
    "# Average price of stock in august,2022 :"
   ]
  },
  {
   "cell_type": "code",
   "execution_count": 9,
   "id": "14d202f3",
   "metadata": {},
   "outputs": [
    {
     "name": "stderr",
     "output_type": "stream",
     "text": [
      "C:\\Users\\PRIYAM\\AppData\\Local\\Temp\\ipykernel_13380\\1464119482.py:1: FutureWarning: Indexing a DataFrame with a datetimelike index using a single string to slice the rows, like `frame[string]`, is deprecated and will be removed in a future version. Use `frame.loc[string]` instead.\n",
      "  df[\"2022-07\"].Close[0:10]\n"
     ]
    },
    {
     "data": {
      "text/plain": [
       "Date\n",
       "2022-07-01    3315.100098\n",
       "2022-07-04    3235.050049\n",
       "2022-07-05    3216.300049\n",
       "2022-07-06    3260.750000\n",
       "2022-07-07    3287.850098\n",
       "2022-07-08    3265.449951\n",
       "2022-07-11    3113.800049\n",
       "2022-07-12    3084.699951\n",
       "2022-07-13    3038.750000\n",
       "2022-07-14    2998.750000\n",
       "Name: Close, dtype: float64"
      ]
     },
     "execution_count": 9,
     "metadata": {},
     "output_type": "execute_result"
    }
   ],
   "source": [
    "df[\"2022-07\"].Close[0:10]"
   ]
  },
  {
   "cell_type": "code",
   "execution_count": 10,
   "id": "8186e369",
   "metadata": {},
   "outputs": [
    {
     "name": "stderr",
     "output_type": "stream",
     "text": [
      "C:\\Users\\PRIYAM\\AppData\\Local\\Temp\\ipykernel_13380\\739545640.py:1: FutureWarning: Indexing a DataFrame with a datetimelike index using a single string to slice the rows, like `frame[string]`, is deprecated and will be removed in a future version. Use `frame.loc[string]` instead.\n",
      "  df[\"2022-07\"].Close.mean()\n"
     ]
    },
    {
     "data": {
      "text/plain": [
       "3166.469063952381"
      ]
     },
     "execution_count": 10,
     "metadata": {},
     "output_type": "execute_result"
    }
   ],
   "source": [
    "df[\"2022-07\"].Close.mean()"
   ]
  },
  {
   "cell_type": "markdown",
   "id": "ee554f15",
   "metadata": {},
   "source": [
    "# Resampling Data :"
   ]
  },
  {
   "cell_type": "code",
   "execution_count": 11,
   "id": "e21b0dde",
   "metadata": {
    "scrolled": true
   },
   "outputs": [
    {
     "data": {
      "text/plain": [
       "Date\n",
       "2022-02-28    3557.699951\n",
       "2022-03-31    3642.852353\n",
       "2022-04-30    3637.007890\n",
       "2022-05-31    3377.378569\n",
       "2022-06-30    3291.370439\n",
       "2022-07-31    3166.469064\n",
       "2022-08-31    3322.112512\n",
       "2022-09-30    3085.195435\n",
       "2022-10-31    3118.149979\n",
       "2022-11-30    3308.226179\n",
       "2022-12-31    3308.034102\n",
       "2023-01-31    3351.288098\n",
       "2023-02-28    3495.723088\n",
       "Freq: M, Name: Close, dtype: float64"
      ]
     },
     "execution_count": 11,
     "metadata": {},
     "output_type": "execute_result"
    }
   ],
   "source": [
    "df.Close.resample(\"M\").mean()"
   ]
  },
  {
   "cell_type": "code",
   "execution_count": 12,
   "id": "d45ec54b",
   "metadata": {},
   "outputs": [],
   "source": [
    "import matplotlib.pyplot as plt"
   ]
  },
  {
   "cell_type": "code",
   "execution_count": 13,
   "id": "4b08ebd8",
   "metadata": {},
   "outputs": [
    {
     "data": {
      "text/plain": [
       "<matplotlib.legend.Legend at 0x153cf694370>"
      ]
     },
     "execution_count": 13,
     "metadata": {},
     "output_type": "execute_result"
    },
    {
     "data": {
      "image/png": "[encoded data removed]",
      "text/plain": [
       "<Figure size 1080x504 with 1 Axes>"
      ]
     },
     "metadata": {
      "needs_background": "light"
     },
     "output_type": "display_data"
    }
   ],
   "source": [
    "plt.figure(figsize=(15,7))\n",
    "plt.title(\"Stock vs. Time\")\n",
    "plt.xlabel(\"Date\")\n",
    "plt.ylabel(\"Stock price\")\n",
    "df.Close.resample(\"Q\").mean().plot(kind=\"bar\")\n",
    "plt.legend()"
   ]
  },
  {
   "cell_type": "markdown",
   "id": "c58cad6b",
   "metadata": {},
   "source": [
    "# Date Range :\n"
   ]
  },
  {
   "cell_type": "code",
   "execution_count": 14,
   "id": "01e197c3",
   "metadata": {},
   "outputs": [
    {
     "data": {
      "text/html": [
       "<div>\n",
       "<style scoped>\n",
       "    .dataframe tbody tr th:only-of-type {\n",
       "        vertical-align: middle;\n",
       "    }\n",
       "\n",
       "    .dataframe tbody tr th {\n",
       "        vertical-align: top;\n",
       "    }\n",
       "\n",
       "    .dataframe thead th {\n",
       "        text-align: right;\n",
       "    }\n",
       "</style>\n",
       "<table border=\"1\" class=\"dataframe\">\n",
       "  <thead>\n",
       "    <tr style=\"text-align: right;\">\n",
       "      <th></th>\n",
       "      <th>Date</th>\n",
       "      <th>Open</th>\n",
       "      <th>High</th>\n",
       "      <th>Low</th>\n",
       "      <th>Close</th>\n",
       "      <th>Adj Close</th>\n",
       "      <th>Volume</th>\n",
       "    </tr>\n",
       "  </thead>\n",
       "  <tbody>\n",
       "    <tr>\n",
       "      <th>0</th>\n",
       "      <td>2022-02-21</td>\n",
       "      <td>555.750000</td>\n",
       "      <td>572.700012</td>\n",
       "      <td>555.400024</td>\n",
       "      <td>570.799988</td>\n",
       "      <td>564.696411</td>\n",
       "      <td>8767001</td>\n",
       "    </tr>\n",
       "    <tr>\n",
       "      <th>1</th>\n",
       "      <td>2022-02-22</td>\n",
       "      <td>556.250000</td>\n",
       "      <td>569.000000</td>\n",
       "      <td>556.099976</td>\n",
       "      <td>564.150024</td>\n",
       "      <td>558.117615</td>\n",
       "      <td>10745062</td>\n",
       "    </tr>\n",
       "    <tr>\n",
       "      <th>2</th>\n",
       "      <td>2022-02-23</td>\n",
       "      <td>569.200012</td>\n",
       "      <td>570.900024</td>\n",
       "      <td>562.650024</td>\n",
       "      <td>567.099976</td>\n",
       "      <td>561.036011</td>\n",
       "      <td>7204256</td>\n",
       "    </tr>\n",
       "    <tr>\n",
       "      <th>3</th>\n",
       "      <td>2022-02-24</td>\n",
       "      <td>548.000000</td>\n",
       "      <td>556.900024</td>\n",
       "      <td>531.150024</td>\n",
       "      <td>537.150024</td>\n",
       "      <td>531.406311</td>\n",
       "      <td>13476944</td>\n",
       "    </tr>\n",
       "    <tr>\n",
       "      <th>4</th>\n",
       "      <td>2022-02-25</td>\n",
       "      <td>548.000000</td>\n",
       "      <td>558.750000</td>\n",
       "      <td>547.500000</td>\n",
       "      <td>555.250000</td>\n",
       "      <td>549.312744</td>\n",
       "      <td>7961312</td>\n",
       "    </tr>\n",
       "    <tr>\n",
       "      <th>5</th>\n",
       "      <td>2022-02-28</td>\n",
       "      <td>551.000000</td>\n",
       "      <td>560.099976</td>\n",
       "      <td>544.099976</td>\n",
       "      <td>555.799988</td>\n",
       "      <td>549.856812</td>\n",
       "      <td>9158437</td>\n",
       "    </tr>\n",
       "    <tr>\n",
       "      <th>6</th>\n",
       "      <td>2022-03-02</td>\n",
       "      <td>555.000000</td>\n",
       "      <td>558.299988</td>\n",
       "      <td>550.400024</td>\n",
       "      <td>555.200012</td>\n",
       "      <td>549.263245</td>\n",
       "      <td>8177055</td>\n",
       "    </tr>\n",
       "    <tr>\n",
       "      <th>7</th>\n",
       "      <td>2022-03-03</td>\n",
       "      <td>563.000000</td>\n",
       "      <td>575.950012</td>\n",
       "      <td>560.349976</td>\n",
       "      <td>569.549988</td>\n",
       "      <td>563.459778</td>\n",
       "      <td>12955663</td>\n",
       "    </tr>\n",
       "    <tr>\n",
       "      <th>8</th>\n",
       "      <td>2022-03-04</td>\n",
       "      <td>561.000000</td>\n",
       "      <td>580.000000</td>\n",
       "      <td>554.049988</td>\n",
       "      <td>575.299988</td>\n",
       "      <td>569.148315</td>\n",
       "      <td>13474186</td>\n",
       "    </tr>\n",
       "    <tr>\n",
       "      <th>9</th>\n",
       "      <td>2022-03-07</td>\n",
       "      <td>563.000000</td>\n",
       "      <td>579.650024</td>\n",
       "      <td>562.250000</td>\n",
       "      <td>571.849976</td>\n",
       "      <td>565.735229</td>\n",
       "      <td>10556167</td>\n",
       "    </tr>\n",
       "    <tr>\n",
       "      <th>10</th>\n",
       "      <td>2022-03-08</td>\n",
       "      <td>572.000000</td>\n",
       "      <td>590.750000</td>\n",
       "      <td>572.000000</td>\n",
       "      <td>587.450012</td>\n",
       "      <td>581.168457</td>\n",
       "      <td>11019999</td>\n",
       "    </tr>\n",
       "    <tr>\n",
       "      <th>11</th>\n",
       "      <td>2022-03-09</td>\n",
       "      <td>588.000000</td>\n",
       "      <td>596.400024</td>\n",
       "      <td>582.150024</td>\n",
       "      <td>585.500000</td>\n",
       "      <td>579.239258</td>\n",
       "      <td>11763616</td>\n",
       "    </tr>\n",
       "    <tr>\n",
       "      <th>12</th>\n",
       "      <td>2022-03-10</td>\n",
       "      <td>595.000000</td>\n",
       "      <td>596.500000</td>\n",
       "      <td>584.599976</td>\n",
       "      <td>588.250000</td>\n",
       "      <td>581.959839</td>\n",
       "      <td>8080983</td>\n",
       "    </tr>\n",
       "    <tr>\n",
       "      <th>13</th>\n",
       "      <td>2022-03-11</td>\n",
       "      <td>587.000000</td>\n",
       "      <td>590.000000</td>\n",
       "      <td>582.400024</td>\n",
       "      <td>586.200012</td>\n",
       "      <td>579.931763</td>\n",
       "      <td>4963594</td>\n",
       "    </tr>\n",
       "    <tr>\n",
       "      <th>14</th>\n",
       "      <td>2022-03-14</td>\n",
       "      <td>586.400024</td>\n",
       "      <td>600.799988</td>\n",
       "      <td>586.000000</td>\n",
       "      <td>598.150024</td>\n",
       "      <td>591.754028</td>\n",
       "      <td>7503221</td>\n",
       "    </tr>\n",
       "    <tr>\n",
       "      <th>15</th>\n",
       "      <td>2022-03-15</td>\n",
       "      <td>603.700012</td>\n",
       "      <td>603.700012</td>\n",
       "      <td>584.299988</td>\n",
       "      <td>587.700012</td>\n",
       "      <td>581.415771</td>\n",
       "      <td>6926622</td>\n",
       "    </tr>\n",
       "    <tr>\n",
       "      <th>16</th>\n",
       "      <td>2022-03-16</td>\n",
       "      <td>595.250000</td>\n",
       "      <td>599.450012</td>\n",
       "      <td>592.500000</td>\n",
       "      <td>598.250000</td>\n",
       "      <td>591.852905</td>\n",
       "      <td>5575148</td>\n",
       "    </tr>\n",
       "    <tr>\n",
       "      <th>17</th>\n",
       "      <td>2022-03-17</td>\n",
       "      <td>605.000000</td>\n",
       "      <td>611.000000</td>\n",
       "      <td>599.000000</td>\n",
       "      <td>601.200012</td>\n",
       "      <td>594.771362</td>\n",
       "      <td>8440645</td>\n",
       "    </tr>\n",
       "  </tbody>\n",
       "</table>\n",
       "</div>"
      ],
      "text/plain": [
       "          Date        Open        High         Low       Close   Adj Close  \\\n",
       "0   2022-02-21  555.750000  572.700012  555.400024  570.799988  564.696411   \n",
       "1   2022-02-22  556.250000  569.000000  556.099976  564.150024  558.117615   \n",
       "2   2022-02-23  569.200012  570.900024  562.650024  567.099976  561.036011   \n",
       "3   2022-02-24  548.000000  556.900024  531.150024  537.150024  531.406311   \n",
       "4   2022-02-25  548.000000  558.750000  547.500000  555.250000  549.312744   \n",
       "5   2022-02-28  551.000000  560.099976  544.099976  555.799988  549.856812   \n",
       "6   2022-03-02  555.000000  558.299988  550.400024  555.200012  549.263245   \n",
       "7   2022-03-03  563.000000  575.950012  560.349976  569.549988  563.459778   \n",
       "8   2022-03-04  561.000000  580.000000  554.049988  575.299988  569.148315   \n",
       "9   2022-03-07  563.000000  579.650024  562.250000  571.849976  565.735229   \n",
       "10  2022-03-08  572.000000  590.750000  572.000000  587.450012  581.168457   \n",
       "11  2022-03-09  588.000000  596.400024  582.150024  585.500000  579.239258   \n",
       "12  2022-03-10  595.000000  596.500000  584.599976  588.250000  581.959839   \n",
       "13  2022-03-11  587.000000  590.000000  582.400024  586.200012  579.931763   \n",
       "14  2022-03-14  586.400024  600.799988  586.000000  598.150024  591.754028   \n",
       "15  2022-03-15  603.700012  603.700012  584.299988  587.700012  581.415771   \n",
       "16  2022-03-16  595.250000  599.450012  592.500000  598.250000  591.852905   \n",
       "17  2022-03-17  605.000000  611.000000  599.000000  601.200012  594.771362   \n",
       "\n",
       "      Volume  \n",
       "0    8767001  \n",
       "1   10745062  \n",
       "2    7204256  \n",
       "3   13476944  \n",
       "4    7961312  \n",
       "5    9158437  \n",
       "6    8177055  \n",
       "7   12955663  \n",
       "8   13474186  \n",
       "9   10556167  \n",
       "10  11019999  \n",
       "11  11763616  \n",
       "12   8080983  \n",
       "13   4963594  \n",
       "14   7503221  \n",
       "15   6926622  \n",
       "16   5575148  \n",
       "17   8440645  "
      ]
     },
     "execution_count": 14,
     "metadata": {},
     "output_type": "execute_result"
    }
   ],
   "source": [
    "df = pd.read_csv(r\"C:\\Users\\PRIYAM\\Downloads\\WIPRO.NS.csv\")\n",
    "df"
   ]
  },
  {
   "cell_type": "code",
   "execution_count": 15,
   "id": "b3ef594f",
   "metadata": {},
   "outputs": [
    {
     "data": {
      "text/html": [
       "<div>\n",
       "<style scoped>\n",
       "    .dataframe tbody tr th:only-of-type {\n",
       "        vertical-align: middle;\n",
       "    }\n",
       "\n",
       "    .dataframe tbody tr th {\n",
       "        vertical-align: top;\n",
       "    }\n",
       "\n",
       "    .dataframe thead th {\n",
       "        text-align: right;\n",
       "    }\n",
       "</style>\n",
       "<table border=\"1\" class=\"dataframe\">\n",
       "  <thead>\n",
       "    <tr style=\"text-align: right;\">\n",
       "      <th></th>\n",
       "      <th>Open</th>\n",
       "      <th>High</th>\n",
       "      <th>Low</th>\n",
       "      <th>Close</th>\n",
       "      <th>Adj Close</th>\n",
       "      <th>Volume</th>\n",
       "    </tr>\n",
       "  </thead>\n",
       "  <tbody>\n",
       "    <tr>\n",
       "      <th>0</th>\n",
       "      <td>555.750000</td>\n",
       "      <td>572.700012</td>\n",
       "      <td>555.400024</td>\n",
       "      <td>570.799988</td>\n",
       "      <td>564.696411</td>\n",
       "      <td>8767001</td>\n",
       "    </tr>\n",
       "    <tr>\n",
       "      <th>1</th>\n",
       "      <td>556.250000</td>\n",
       "      <td>569.000000</td>\n",
       "      <td>556.099976</td>\n",
       "      <td>564.150024</td>\n",
       "      <td>558.117615</td>\n",
       "      <td>10745062</td>\n",
       "    </tr>\n",
       "    <tr>\n",
       "      <th>2</th>\n",
       "      <td>569.200012</td>\n",
       "      <td>570.900024</td>\n",
       "      <td>562.650024</td>\n",
       "      <td>567.099976</td>\n",
       "      <td>561.036011</td>\n",
       "      <td>7204256</td>\n",
       "    </tr>\n",
       "    <tr>\n",
       "      <th>3</th>\n",
       "      <td>548.000000</td>\n",
       "      <td>556.900024</td>\n",
       "      <td>531.150024</td>\n",
       "      <td>537.150024</td>\n",
       "      <td>531.406311</td>\n",
       "      <td>13476944</td>\n",
       "    </tr>\n",
       "    <tr>\n",
       "      <th>4</th>\n",
       "      <td>548.000000</td>\n",
       "      <td>558.750000</td>\n",
       "      <td>547.500000</td>\n",
       "      <td>555.250000</td>\n",
       "      <td>549.312744</td>\n",
       "      <td>7961312</td>\n",
       "    </tr>\n",
       "  </tbody>\n",
       "</table>\n",
       "</div>"
      ],
      "text/plain": [
       "         Open        High         Low       Close   Adj Close    Volume\n",
       "0  555.750000  572.700012  555.400024  570.799988  564.696411   8767001\n",
       "1  556.250000  569.000000  556.099976  564.150024  558.117615  10745062\n",
       "2  569.200012  570.900024  562.650024  567.099976  561.036011   7204256\n",
       "3  548.000000  556.900024  531.150024  537.150024  531.406311  13476944\n",
       "4  548.000000  558.750000  547.500000  555.250000  549.312744   7961312"
      ]
     },
     "execution_count": 15,
     "metadata": {},
     "output_type": "execute_result"
    }
   ],
   "source": [
    "df2 = df.drop([\"Date\"],axis=1)\n",
    "df2.head()"
   ]
  },
  {
   "cell_type": "code",
   "execution_count": 16,
   "id": "275d0df0",
   "metadata": {},
   "outputs": [],
   "source": [
    "# We don't have date now. But we can assign dates by date_range function.\n",
    "temp = pd.date_range(start=\"2022-02-21\",end=\"2022-03-17\",freq=\"B\")"
   ]
  },
  {
   "cell_type": "code",
   "execution_count": 17,
   "id": "a15da8ce",
   "metadata": {
    "scrolled": true
   },
   "outputs": [
    {
     "data": {
      "text/plain": [
       "DatetimeIndex(['2022-02-21', '2022-02-22', '2022-02-23', '2022-02-24',\n",
       "               '2022-02-25', '2022-02-28', '2022-03-01', '2022-03-02',\n",
       "               '2022-03-03', '2022-03-04', '2022-03-07', '2022-03-08',\n",
       "               '2022-03-09', '2022-03-10', '2022-03-11', '2022-03-14',\n",
       "               '2022-03-15', '2022-03-16', '2022-03-17'],\n",
       "              dtype='datetime64[ns]', freq='B')"
      ]
     },
     "execution_count": 17,
     "metadata": {},
     "output_type": "execute_result"
    }
   ],
   "source": [
    "temp"
   ]
  },
  {
   "cell_type": "markdown",
   "id": "873189c7",
   "metadata": {},
   "source": [
    "**There is a extra term so will drop it off.**"
   ]
  },
  {
   "cell_type": "code",
   "execution_count": 18,
   "id": "31bcec69",
   "metadata": {},
   "outputs": [],
   "source": [
    "temp2=temp.drop(\"'2022-03-01\")"
   ]
  },
  {
   "cell_type": "code",
   "execution_count": 19,
   "id": "b8541b7e",
   "metadata": {},
   "outputs": [
    {
     "data": {
      "text/html": [
       "<div>\n",
       "<style scoped>\n",
       "    .dataframe tbody tr th:only-of-type {\n",
       "        vertical-align: middle;\n",
       "    }\n",
       "\n",
       "    .dataframe tbody tr th {\n",
       "        vertical-align: top;\n",
       "    }\n",
       "\n",
       "    .dataframe thead th {\n",
       "        text-align: right;\n",
       "    }\n",
       "</style>\n",
       "<table border=\"1\" class=\"dataframe\">\n",
       "  <thead>\n",
       "    <tr style=\"text-align: right;\">\n",
       "      <th></th>\n",
       "      <th>Open</th>\n",
       "      <th>High</th>\n",
       "      <th>Low</th>\n",
       "      <th>Close</th>\n",
       "      <th>Adj Close</th>\n",
       "      <th>Volume</th>\n",
       "    </tr>\n",
       "  </thead>\n",
       "  <tbody>\n",
       "    <tr>\n",
       "      <th>2022-02-21</th>\n",
       "      <td>555.750000</td>\n",
       "      <td>572.700012</td>\n",
       "      <td>555.400024</td>\n",
       "      <td>570.799988</td>\n",
       "      <td>564.696411</td>\n",
       "      <td>8767001</td>\n",
       "    </tr>\n",
       "    <tr>\n",
       "      <th>2022-02-22</th>\n",
       "      <td>556.250000</td>\n",
       "      <td>569.000000</td>\n",
       "      <td>556.099976</td>\n",
       "      <td>564.150024</td>\n",
       "      <td>558.117615</td>\n",
       "      <td>10745062</td>\n",
       "    </tr>\n",
       "    <tr>\n",
       "      <th>2022-02-23</th>\n",
       "      <td>569.200012</td>\n",
       "      <td>570.900024</td>\n",
       "      <td>562.650024</td>\n",
       "      <td>567.099976</td>\n",
       "      <td>561.036011</td>\n",
       "      <td>7204256</td>\n",
       "    </tr>\n",
       "    <tr>\n",
       "      <th>2022-02-24</th>\n",
       "      <td>548.000000</td>\n",
       "      <td>556.900024</td>\n",
       "      <td>531.150024</td>\n",
       "      <td>537.150024</td>\n",
       "      <td>531.406311</td>\n",
       "      <td>13476944</td>\n",
       "    </tr>\n",
       "    <tr>\n",
       "      <th>2022-02-25</th>\n",
       "      <td>548.000000</td>\n",
       "      <td>558.750000</td>\n",
       "      <td>547.500000</td>\n",
       "      <td>555.250000</td>\n",
       "      <td>549.312744</td>\n",
       "      <td>7961312</td>\n",
       "    </tr>\n",
       "    <tr>\n",
       "      <th>2022-02-28</th>\n",
       "      <td>551.000000</td>\n",
       "      <td>560.099976</td>\n",
       "      <td>544.099976</td>\n",
       "      <td>555.799988</td>\n",
       "      <td>549.856812</td>\n",
       "      <td>9158437</td>\n",
       "    </tr>\n",
       "    <tr>\n",
       "      <th>2022-03-02</th>\n",
       "      <td>555.000000</td>\n",
       "      <td>558.299988</td>\n",
       "      <td>550.400024</td>\n",
       "      <td>555.200012</td>\n",
       "      <td>549.263245</td>\n",
       "      <td>8177055</td>\n",
       "    </tr>\n",
       "    <tr>\n",
       "      <th>2022-03-03</th>\n",
       "      <td>563.000000</td>\n",
       "      <td>575.950012</td>\n",
       "      <td>560.349976</td>\n",
       "      <td>569.549988</td>\n",
       "      <td>563.459778</td>\n",
       "      <td>12955663</td>\n",
       "    </tr>\n",
       "    <tr>\n",
       "      <th>2022-03-04</th>\n",
       "      <td>561.000000</td>\n",
       "      <td>580.000000</td>\n",
       "      <td>554.049988</td>\n",
       "      <td>575.299988</td>\n",
       "      <td>569.148315</td>\n",
       "      <td>13474186</td>\n",
       "    </tr>\n",
       "    <tr>\n",
       "      <th>2022-03-07</th>\n",
       "      <td>563.000000</td>\n",
       "      <td>579.650024</td>\n",
       "      <td>562.250000</td>\n",
       "      <td>571.849976</td>\n",
       "      <td>565.735229</td>\n",
       "      <td>10556167</td>\n",
       "    </tr>\n",
       "    <tr>\n",
       "      <th>2022-03-08</th>\n",
       "      <td>572.000000</td>\n",
       "      <td>590.750000</td>\n",
       "      <td>572.000000</td>\n",
       "      <td>587.450012</td>\n",
       "      <td>581.168457</td>\n",
       "      <td>11019999</td>\n",
       "    </tr>\n",
       "    <tr>\n",
       "      <th>2022-03-09</th>\n",
       "      <td>588.000000</td>\n",
       "      <td>596.400024</td>\n",
       "      <td>582.150024</td>\n",
       "      <td>585.500000</td>\n",
       "      <td>579.239258</td>\n",
       "      <td>11763616</td>\n",
       "    </tr>\n",
       "    <tr>\n",
       "      <th>2022-03-10</th>\n",
       "      <td>595.000000</td>\n",
       "      <td>596.500000</td>\n",
       "      <td>584.599976</td>\n",
       "      <td>588.250000</td>\n",
       "      <td>581.959839</td>\n",
       "      <td>8080983</td>\n",
       "    </tr>\n",
       "    <tr>\n",
       "      <th>2022-03-11</th>\n",
       "      <td>587.000000</td>\n",
       "      <td>590.000000</td>\n",
       "      <td>582.400024</td>\n",
       "      <td>586.200012</td>\n",
       "      <td>579.931763</td>\n",
       "      <td>4963594</td>\n",
       "    </tr>\n",
       "    <tr>\n",
       "      <th>2022-03-14</th>\n",
       "      <td>586.400024</td>\n",
       "      <td>600.799988</td>\n",
       "      <td>586.000000</td>\n",
       "      <td>598.150024</td>\n",
       "      <td>591.754028</td>\n",
       "      <td>7503221</td>\n",
       "    </tr>\n",
       "    <tr>\n",
       "      <th>2022-03-15</th>\n",
       "      <td>603.700012</td>\n",
       "      <td>603.700012</td>\n",
       "      <td>584.299988</td>\n",
       "      <td>587.700012</td>\n",
       "      <td>581.415771</td>\n",
       "      <td>6926622</td>\n",
       "    </tr>\n",
       "    <tr>\n",
       "      <th>2022-03-16</th>\n",
       "      <td>595.250000</td>\n",
       "      <td>599.450012</td>\n",
       "      <td>592.500000</td>\n",
       "      <td>598.250000</td>\n",
       "      <td>591.852905</td>\n",
       "      <td>5575148</td>\n",
       "    </tr>\n",
       "    <tr>\n",
       "      <th>2022-03-17</th>\n",
       "      <td>605.000000</td>\n",
       "      <td>611.000000</td>\n",
       "      <td>599.000000</td>\n",
       "      <td>601.200012</td>\n",
       "      <td>594.771362</td>\n",
       "      <td>8440645</td>\n",
       "    </tr>\n",
       "  </tbody>\n",
       "</table>\n",
       "</div>"
      ],
      "text/plain": [
       "                  Open        High         Low       Close   Adj Close  \\\n",
       "2022-02-21  555.750000  572.700012  555.400024  570.799988  564.696411   \n",
       "2022-02-22  556.250000  569.000000  556.099976  564.150024  558.117615   \n",
       "2022-02-23  569.200012  570.900024  562.650024  567.099976  561.036011   \n",
       "2022-02-24  548.000000  556.900024  531.150024  537.150024  531.406311   \n",
       "2022-02-25  548.000000  558.750000  547.500000  555.250000  549.312744   \n",
       "2022-02-28  551.000000  560.099976  544.099976  555.799988  549.856812   \n",
       "2022-03-02  555.000000  558.299988  550.400024  555.200012  549.263245   \n",
       "2022-03-03  563.000000  575.950012  560.349976  569.549988  563.459778   \n",
       "2022-03-04  561.000000  580.000000  554.049988  575.299988  569.148315   \n",
       "2022-03-07  563.000000  579.650024  562.250000  571.849976  565.735229   \n",
       "2022-03-08  572.000000  590.750000  572.000000  587.450012  581.168457   \n",
       "2022-03-09  588.000000  596.400024  582.150024  585.500000  579.239258   \n",
       "2022-03-10  595.000000  596.500000  584.599976  588.250000  581.959839   \n",
       "2022-03-11  587.000000  590.000000  582.400024  586.200012  579.931763   \n",
       "2022-03-14  586.400024  600.799988  586.000000  598.150024  591.754028   \n",
       "2022-03-15  603.700012  603.700012  584.299988  587.700012  581.415771   \n",
       "2022-03-16  595.250000  599.450012  592.500000  598.250000  591.852905   \n",
       "2022-03-17  605.000000  611.000000  599.000000  601.200012  594.771362   \n",
       "\n",
       "              Volume  \n",
       "2022-02-21   8767001  \n",
       "2022-02-22  10745062  \n",
       "2022-02-23   7204256  \n",
       "2022-02-24  13476944  \n",
       "2022-02-25   7961312  \n",
       "2022-02-28   9158437  \n",
       "2022-03-02   8177055  \n",
       "2022-03-03  12955663  \n",
       "2022-03-04  13474186  \n",
       "2022-03-07  10556167  \n",
       "2022-03-08  11019999  \n",
       "2022-03-09  11763616  \n",
       "2022-03-10   8080983  \n",
       "2022-03-11   4963594  \n",
       "2022-03-14   7503221  \n",
       "2022-03-15   6926622  \n",
       "2022-03-16   5575148  \n",
       "2022-03-17   8440645  "
      ]
     },
     "execution_count": 19,
     "metadata": {},
     "output_type": "execute_result"
    }
   ],
   "source": [
    "# Implementing these values as index in our dataframe\n",
    "df2.set_index(temp2,inplace=True)\n",
    "df2"
   ]
  },
  {
   "cell_type": "code",
   "execution_count": 20,
   "id": "22e6e1f2",
   "metadata": {},
   "outputs": [
    {
     "data": {
      "text/plain": [
       "<AxesSubplot:>"
      ]
     },
     "execution_count": 20,
     "metadata": {},
     "output_type": "execute_result"
    },
    {
     "data": {
      "image/png": "[encoded data removed]",
      "text/plain": [
       "<Figure size 432x288 with 1 Axes>"
      ]
     },
     "metadata": {
      "needs_background": "light"
     },
     "output_type": "display_data"
    }
   ],
   "source": [
    "df2.Close.plot()"
   ]
  },
  {
   "cell_type": "markdown",
   "id": "da09a15f",
   "metadata": {},
   "source": [
    "**We can pad data to fill the missing date rows.**"
   ]
  },
  {
   "cell_type": "code",
   "execution_count": 21,
   "id": "72d856c3",
   "metadata": {},
   "outputs": [
    {
     "data": {
      "text/html": [
       "<div>\n",
       "<style scoped>\n",
       "    .dataframe tbody tr th:only-of-type {\n",
       "        vertical-align: middle;\n",
       "    }\n",
       "\n",
       "    .dataframe tbody tr th {\n",
       "        vertical-align: top;\n",
       "    }\n",
       "\n",
       "    .dataframe thead th {\n",
       "        text-align: right;\n",
       "    }\n",
       "</style>\n",
       "<table border=\"1\" class=\"dataframe\">\n",
       "  <thead>\n",
       "    <tr style=\"text-align: right;\">\n",
       "      <th></th>\n",
       "      <th>Open</th>\n",
       "      <th>High</th>\n",
       "      <th>Low</th>\n",
       "      <th>Close</th>\n",
       "      <th>Adj Close</th>\n",
       "      <th>Volume</th>\n",
       "    </tr>\n",
       "  </thead>\n",
       "  <tbody>\n",
       "    <tr>\n",
       "      <th>2022-02-21</th>\n",
       "      <td>555.750000</td>\n",
       "      <td>572.700012</td>\n",
       "      <td>555.400024</td>\n",
       "      <td>570.799988</td>\n",
       "      <td>564.696411</td>\n",
       "      <td>8767001</td>\n",
       "    </tr>\n",
       "    <tr>\n",
       "      <th>2022-02-22</th>\n",
       "      <td>556.250000</td>\n",
       "      <td>569.000000</td>\n",
       "      <td>556.099976</td>\n",
       "      <td>564.150024</td>\n",
       "      <td>558.117615</td>\n",
       "      <td>10745062</td>\n",
       "    </tr>\n",
       "    <tr>\n",
       "      <th>2022-02-23</th>\n",
       "      <td>569.200012</td>\n",
       "      <td>570.900024</td>\n",
       "      <td>562.650024</td>\n",
       "      <td>567.099976</td>\n",
       "      <td>561.036011</td>\n",
       "      <td>7204256</td>\n",
       "    </tr>\n",
       "    <tr>\n",
       "      <th>2022-02-24</th>\n",
       "      <td>548.000000</td>\n",
       "      <td>556.900024</td>\n",
       "      <td>531.150024</td>\n",
       "      <td>537.150024</td>\n",
       "      <td>531.406311</td>\n",
       "      <td>13476944</td>\n",
       "    </tr>\n",
       "    <tr>\n",
       "      <th>2022-02-25</th>\n",
       "      <td>548.000000</td>\n",
       "      <td>558.750000</td>\n",
       "      <td>547.500000</td>\n",
       "      <td>555.250000</td>\n",
       "      <td>549.312744</td>\n",
       "      <td>7961312</td>\n",
       "    </tr>\n",
       "    <tr>\n",
       "      <th>2022-02-28</th>\n",
       "      <td>551.000000</td>\n",
       "      <td>560.099976</td>\n",
       "      <td>544.099976</td>\n",
       "      <td>555.799988</td>\n",
       "      <td>549.856812</td>\n",
       "      <td>9158437</td>\n",
       "    </tr>\n",
       "    <tr>\n",
       "      <th>2022-03-02</th>\n",
       "      <td>555.000000</td>\n",
       "      <td>558.299988</td>\n",
       "      <td>550.400024</td>\n",
       "      <td>555.200012</td>\n",
       "      <td>549.263245</td>\n",
       "      <td>8177055</td>\n",
       "    </tr>\n",
       "    <tr>\n",
       "      <th>2022-03-03</th>\n",
       "      <td>563.000000</td>\n",
       "      <td>575.950012</td>\n",
       "      <td>560.349976</td>\n",
       "      <td>569.549988</td>\n",
       "      <td>563.459778</td>\n",
       "      <td>12955663</td>\n",
       "    </tr>\n",
       "    <tr>\n",
       "      <th>2022-03-04</th>\n",
       "      <td>561.000000</td>\n",
       "      <td>580.000000</td>\n",
       "      <td>554.049988</td>\n",
       "      <td>575.299988</td>\n",
       "      <td>569.148315</td>\n",
       "      <td>13474186</td>\n",
       "    </tr>\n",
       "    <tr>\n",
       "      <th>2022-03-07</th>\n",
       "      <td>563.000000</td>\n",
       "      <td>579.650024</td>\n",
       "      <td>562.250000</td>\n",
       "      <td>571.849976</td>\n",
       "      <td>565.735229</td>\n",
       "      <td>10556167</td>\n",
       "    </tr>\n",
       "    <tr>\n",
       "      <th>2022-03-08</th>\n",
       "      <td>572.000000</td>\n",
       "      <td>590.750000</td>\n",
       "      <td>572.000000</td>\n",
       "      <td>587.450012</td>\n",
       "      <td>581.168457</td>\n",
       "      <td>11019999</td>\n",
       "    </tr>\n",
       "    <tr>\n",
       "      <th>2022-03-09</th>\n",
       "      <td>588.000000</td>\n",
       "      <td>596.400024</td>\n",
       "      <td>582.150024</td>\n",
       "      <td>585.500000</td>\n",
       "      <td>579.239258</td>\n",
       "      <td>11763616</td>\n",
       "    </tr>\n",
       "    <tr>\n",
       "      <th>2022-03-10</th>\n",
       "      <td>595.000000</td>\n",
       "      <td>596.500000</td>\n",
       "      <td>584.599976</td>\n",
       "      <td>588.250000</td>\n",
       "      <td>581.959839</td>\n",
       "      <td>8080983</td>\n",
       "    </tr>\n",
       "    <tr>\n",
       "      <th>2022-03-11</th>\n",
       "      <td>587.000000</td>\n",
       "      <td>590.000000</td>\n",
       "      <td>582.400024</td>\n",
       "      <td>586.200012</td>\n",
       "      <td>579.931763</td>\n",
       "      <td>4963594</td>\n",
       "    </tr>\n",
       "    <tr>\n",
       "      <th>2022-03-14</th>\n",
       "      <td>586.400024</td>\n",
       "      <td>600.799988</td>\n",
       "      <td>586.000000</td>\n",
       "      <td>598.150024</td>\n",
       "      <td>591.754028</td>\n",
       "      <td>7503221</td>\n",
       "    </tr>\n",
       "    <tr>\n",
       "      <th>2022-03-15</th>\n",
       "      <td>603.700012</td>\n",
       "      <td>603.700012</td>\n",
       "      <td>584.299988</td>\n",
       "      <td>587.700012</td>\n",
       "      <td>581.415771</td>\n",
       "      <td>6926622</td>\n",
       "    </tr>\n",
       "    <tr>\n",
       "      <th>2022-03-16</th>\n",
       "      <td>595.250000</td>\n",
       "      <td>599.450012</td>\n",
       "      <td>592.500000</td>\n",
       "      <td>598.250000</td>\n",
       "      <td>591.852905</td>\n",
       "      <td>5575148</td>\n",
       "    </tr>\n",
       "    <tr>\n",
       "      <th>2022-03-17</th>\n",
       "      <td>605.000000</td>\n",
       "      <td>611.000000</td>\n",
       "      <td>599.000000</td>\n",
       "      <td>601.200012</td>\n",
       "      <td>594.771362</td>\n",
       "      <td>8440645</td>\n",
       "    </tr>\n",
       "  </tbody>\n",
       "</table>\n",
       "</div>"
      ],
      "text/plain": [
       "                  Open        High         Low       Close   Adj Close  \\\n",
       "2022-02-21  555.750000  572.700012  555.400024  570.799988  564.696411   \n",
       "2022-02-22  556.250000  569.000000  556.099976  564.150024  558.117615   \n",
       "2022-02-23  569.200012  570.900024  562.650024  567.099976  561.036011   \n",
       "2022-02-24  548.000000  556.900024  531.150024  537.150024  531.406311   \n",
       "2022-02-25  548.000000  558.750000  547.500000  555.250000  549.312744   \n",
       "2022-02-28  551.000000  560.099976  544.099976  555.799988  549.856812   \n",
       "2022-03-02  555.000000  558.299988  550.400024  555.200012  549.263245   \n",
       "2022-03-03  563.000000  575.950012  560.349976  569.549988  563.459778   \n",
       "2022-03-04  561.000000  580.000000  554.049988  575.299988  569.148315   \n",
       "2022-03-07  563.000000  579.650024  562.250000  571.849976  565.735229   \n",
       "2022-03-08  572.000000  590.750000  572.000000  587.450012  581.168457   \n",
       "2022-03-09  588.000000  596.400024  582.150024  585.500000  579.239258   \n",
       "2022-03-10  595.000000  596.500000  584.599976  588.250000  581.959839   \n",
       "2022-03-11  587.000000  590.000000  582.400024  586.200012  579.931763   \n",
       "2022-03-14  586.400024  600.799988  586.000000  598.150024  591.754028   \n",
       "2022-03-15  603.700012  603.700012  584.299988  587.700012  581.415771   \n",
       "2022-03-16  595.250000  599.450012  592.500000  598.250000  591.852905   \n",
       "2022-03-17  605.000000  611.000000  599.000000  601.200012  594.771362   \n",
       "\n",
       "              Volume  \n",
       "2022-02-21   8767001  \n",
       "2022-02-22  10745062  \n",
       "2022-02-23   7204256  \n",
       "2022-02-24  13476944  \n",
       "2022-02-25   7961312  \n",
       "2022-02-28   9158437  \n",
       "2022-03-02   8177055  \n",
       "2022-03-03  12955663  \n",
       "2022-03-04  13474186  \n",
       "2022-03-07  10556167  \n",
       "2022-03-08  11019999  \n",
       "2022-03-09  11763616  \n",
       "2022-03-10   8080983  \n",
       "2022-03-11   4963594  \n",
       "2022-03-14   7503221  \n",
       "2022-03-15   6926622  \n",
       "2022-03-16   5575148  \n",
       "2022-03-17   8440645  "
      ]
     },
     "execution_count": 21,
     "metadata": {},
     "output_type": "execute_result"
    }
   ],
   "source": [
    "df2.asfreq('D',method=\"pad\")\n",
    "df2"
   ]
  },
  {
   "cell_type": "code",
   "execution_count": 22,
   "id": "32e0959d",
   "metadata": {},
   "outputs": [
    {
     "data": {
      "text/plain": [
       "DatetimeIndex(['2022-02-21', '2022-02-22', '2022-02-23', '2022-02-24',\n",
       "               '2022-02-25', '2022-02-28', '2022-03-01', '2022-03-02',\n",
       "               '2022-03-03', '2022-03-04', '2022-03-07', '2022-03-08',\n",
       "               '2022-03-09', '2022-03-10', '2022-03-11', '2022-03-14',\n",
       "               '2022-03-15'],\n",
       "              dtype='datetime64[ns]', freq='B')"
      ]
     },
     "execution_count": 22,
     "metadata": {},
     "output_type": "execute_result"
    }
   ],
   "source": [
    "temp = pd.date_range(start=\"2022-02-21\",periods=17,freq=\"B\")\n",
    "temp"
   ]
  },
  {
   "cell_type": "code",
   "execution_count": 23,
   "id": "977fac88",
   "metadata": {},
   "outputs": [],
   "source": [
    "import numpy as np"
   ]
  },
  {
   "cell_type": "code",
   "execution_count": 24,
   "id": "c1234ff6",
   "metadata": {},
   "outputs": [],
   "source": [
    "rng = pd.Series(np.random.randint(1,10,len(temp)),index=temp)"
   ]
  },
  {
   "cell_type": "code",
   "execution_count": 25,
   "id": "9288b2ab",
   "metadata": {},
   "outputs": [
    {
     "data": {
      "text/plain": [
       "2022-02-21    6\n",
       "2022-02-22    2\n",
       "2022-02-23    8\n",
       "2022-02-24    7\n",
       "2022-02-25    7\n",
       "2022-02-28    4\n",
       "2022-03-01    4\n",
       "2022-03-02    1\n",
       "2022-03-03    6\n",
       "2022-03-04    8\n",
       "2022-03-07    2\n",
       "2022-03-08    3\n",
       "2022-03-09    4\n",
       "2022-03-10    2\n",
       "2022-03-11    7\n",
       "2022-03-14    4\n",
       "2022-03-15    8\n",
       "Freq: B, dtype: int32"
      ]
     },
     "execution_count": 25,
     "metadata": {},
     "output_type": "execute_result"
    }
   ],
   "source": [
    "rng"
   ]
  },
  {
   "cell_type": "markdown",
   "id": "41ab37a6",
   "metadata": {},
   "source": [
    "# Holiday Encounter :"
   ]
  },
  {
   "cell_type": "code",
   "execution_count": 26,
   "id": "f136df5b",
   "metadata": {},
   "outputs": [
    {
     "data": {
      "text/plain": [
       "<CustomBusinessDay>"
      ]
     },
     "execution_count": 26,
     "metadata": {},
     "output_type": "execute_result"
    }
   ],
   "source": [
    "from pandas.tseries.holiday import USFederalHolidayCalendar\n",
    "from pandas.tseries.offsets import CustomBusinessDay\n",
    "\n",
    "usb = CustomBusinessDay(calendar = USFederalHolidayCalendar())\n",
    "usb\n"
   ]
  },
  {
   "cell_type": "code",
   "execution_count": 27,
   "id": "4b3ad813",
   "metadata": {},
   "outputs": [
    {
     "data": {
      "text/plain": [
       "DatetimeIndex(['2022-01-07', '2022-01-10', '2022-01-11', '2022-01-12',\n",
       "               '2022-01-13', '2022-01-14', '2022-01-18', '2022-01-19',\n",
       "               '2022-01-20', '2022-01-21', '2022-01-24', '2022-01-25',\n",
       "               '2022-01-26', '2022-01-27', '2022-01-28', '2022-01-31',\n",
       "               '2022-02-01', '2022-02-02', '2022-02-03', '2022-02-04',\n",
       "               '2022-02-07'],\n",
       "              dtype='datetime64[ns]', freq='C')"
      ]
     },
     "execution_count": 27,
     "metadata": {},
     "output_type": "execute_result"
    }
   ],
   "source": [
    "pd.date_range(start=\"2022-01-07\",end=\"2022-02-07\",freq=usb)"
   ]
  },
  {
   "cell_type": "markdown",
   "id": "2289d2bd",
   "metadata": {},
   "source": [
    "**Creating custom holiday calendar.**"
   ]
  },
  {
   "cell_type": "code",
   "execution_count": 28,
   "id": "8e1e3534",
   "metadata": {},
   "outputs": [],
   "source": [
    "from pandas.tseries.holiday import AbstractHolidayCalendar,Holiday,nearest_workday\n",
    "class myHolidayCalendar(AbstractHolidayCalendar):\n",
    "\n",
    "    rules = [\n",
    "        Holiday(\"Birth Day Of Lord Priyam\", month=3, day=19)\n",
    "    ]"
   ]
  },
  {
   "cell_type": "code",
   "execution_count": 29,
   "id": "f9bb6588",
   "metadata": {},
   "outputs": [
    {
     "data": {
      "text/plain": [
       "<CustomBusinessDay>"
      ]
     },
     "execution_count": 29,
     "metadata": {},
     "output_type": "execute_result"
    }
   ],
   "source": [
    "my = CustomBusinessDay(calendar = myHolidayCalendar())\n",
    "my"
   ]
  },
  {
   "cell_type": "code",
   "execution_count": 30,
   "id": "75a31efd",
   "metadata": {},
   "outputs": [
    {
     "data": {
      "text/plain": [
       "DatetimeIndex(['2022-03-01', '2022-03-02', '2022-03-03', '2022-03-04',\n",
       "               '2022-03-07', '2022-03-08', '2022-03-09', '2022-03-10',\n",
       "               '2022-03-11', '2022-03-14', '2022-03-15', '2022-03-16',\n",
       "               '2022-03-17', '2022-03-18', '2022-03-21', '2022-03-22',\n",
       "               '2022-03-23', '2022-03-24', '2022-03-25', '2022-03-28',\n",
       "               '2022-03-29', '2022-03-30', '2022-03-31'],\n",
       "              dtype='datetime64[ns]', freq='C')"
      ]
     },
     "execution_count": 30,
     "metadata": {},
     "output_type": "execute_result"
    }
   ],
   "source": [
    "pd.date_range(start=\"2022-03-01\",end=\"2022-03-31\",freq=my)"
   ]
  },
  {
   "cell_type": "markdown",
   "id": "290ff846",
   "metadata": {},
   "source": [
    "There is no 19/03/2022 present since we made it a custom holiday."
   ]
  },
  {
   "cell_type": "markdown",
   "id": "befb0a6b",
   "metadata": {},
   "source": [
    "**CASE - 2 :**"
   ]
  },
  {
   "cell_type": "code",
   "execution_count": 31,
   "id": "50645b84",
   "metadata": {},
   "outputs": [],
   "source": [
    "# If our holiday falls on a weekend or holiday if can transfre it to the nearest working day\n",
    "\n",
    "from pandas.tseries.holiday import AbstractHolidayCalendar,nearest_workday,Holiday\n",
    "class myholiday2(AbstractHolidayCalendar):\n",
    "    rules = [\n",
    "        Holiday(\"My birthday\",month=3,day=20,observance=nearest_workday)\n",
    "    ]"
   ]
  },
  {
   "cell_type": "code",
   "execution_count": 32,
   "id": "5d8f278d",
   "metadata": {},
   "outputs": [
    {
     "data": {
      "text/plain": [
       "<CustomBusinessDay>"
      ]
     },
     "execution_count": 32,
     "metadata": {},
     "output_type": "execute_result"
    }
   ],
   "source": [
    "temp = CustomBusinessDay(calendar=myholiday2())\n",
    "temp"
   ]
  },
  {
   "cell_type": "code",
   "execution_count": 33,
   "id": "117bebd2",
   "metadata": {},
   "outputs": [
    {
     "data": {
      "text/plain": [
       "DatetimeIndex(['2022-03-01', '2022-03-02', '2022-03-03', '2022-03-04',\n",
       "               '2022-03-07', '2022-03-08', '2022-03-09', '2022-03-10',\n",
       "               '2022-03-11', '2022-03-14', '2022-03-15', '2022-03-16',\n",
       "               '2022-03-17', '2022-03-18', '2022-03-22', '2022-03-23',\n",
       "               '2022-03-24', '2022-03-25', '2022-03-28', '2022-03-29',\n",
       "               '2022-03-30', '2022-03-31'],\n",
       "              dtype='datetime64[ns]', freq='C')"
      ]
     },
     "execution_count": 33,
     "metadata": {},
     "output_type": "execute_result"
    }
   ],
   "source": [
    "pd.date_range(start=\"2022-03-01\",end=\"2022-03-31\",freq=temp)"
   ]
  },
  {
   "cell_type": "markdown",
   "id": "a444afd8",
   "metadata": {},
   "source": [
    "20-03-2022 is already a holiday, so it made the nearest working day that is 19-03-2022 a holiday, which is a concept works in USA.\n"
   ]
  },
  {
   "cell_type": "markdown",
   "id": "6abba01d",
   "metadata": {},
   "source": [
    "# pd.to_datetime()"
   ]
  },
  {
   "cell_type": "code",
   "execution_count": 34,
   "id": "88703cbc",
   "metadata": {},
   "outputs": [
    {
     "data": {
      "text/plain": [
       "DatetimeIndex(['2022-01-02', '2022-01-02', '2022-01-02', '2022-01-03'], dtype='datetime64[ns]', freq=None)"
      ]
     },
     "execution_count": 34,
     "metadata": {},
     "output_type": "execute_result"
    }
   ],
   "source": [
    "date = [\"2022-01-02\",\"2022/01/02\",\"2022-01-02\",\"20220103\"]\n",
    "\n",
    "pd.to_datetime(date)"
   ]
  },
  {
   "cell_type": "code",
   "execution_count": 36,
   "id": "582073c9",
   "metadata": {},
   "outputs": [
    {
     "data": {
      "text/plain": [
       "Timestamp('2022-02-01 00:00:00')"
      ]
     },
     "execution_count": 36,
     "metadata": {},
     "output_type": "execute_result"
    }
   ],
   "source": [
    "pd.to_datetime(\"2022@02@01\",format=\"%Y@%m@%d\")"
   ]
  },
  {
   "cell_type": "code",
   "execution_count": 37,
   "id": "3088293c",
   "metadata": {},
   "outputs": [
    {
     "ename": "ParserError",
     "evalue": "Unknown string format: abc",
     "output_type": "error",
     "traceback": [
      "\u001b[1;31m---------------------------------------------------------------------------\u001b[0m",
      "\u001b[1;31mTypeError\u001b[0m                                 Traceback (most recent call last)",
      "File \u001b[1;32m~\\anaconda3\\lib\\site-packages\\pandas\\core\\arrays\\datetimes.py:2211\u001b[0m, in \u001b[0;36mobjects_to_datetime64ns\u001b[1;34m(data, dayfirst, yearfirst, utc, errors, require_iso8601, allow_object, allow_mixed)\u001b[0m\n\u001b[0;32m   2210\u001b[0m \u001b[38;5;28;01mtry\u001b[39;00m:\n\u001b[1;32m-> 2211\u001b[0m     values, tz_parsed \u001b[38;5;241m=\u001b[39m \u001b[43mconversion\u001b[49m\u001b[38;5;241;43m.\u001b[39;49m\u001b[43mdatetime_to_datetime64\u001b[49m\u001b[43m(\u001b[49m\u001b[43mdata\u001b[49m\u001b[38;5;241;43m.\u001b[39;49m\u001b[43mravel\u001b[49m\u001b[43m(\u001b[49m\u001b[38;5;124;43m\"\u001b[39;49m\u001b[38;5;124;43mK\u001b[39;49m\u001b[38;5;124;43m\"\u001b[39;49m\u001b[43m)\u001b[49m\u001b[43m)\u001b[49m\n\u001b[0;32m   2212\u001b[0m     \u001b[38;5;66;03m# If tzaware, these values represent unix timestamps, so we\u001b[39;00m\n\u001b[0;32m   2213\u001b[0m     \u001b[38;5;66;03m#  return them as i8 to distinguish from wall times\u001b[39;00m\n",
      "File \u001b[1;32m~\\anaconda3\\lib\\site-packages\\pandas\\_libs\\tslibs\\conversion.pyx:360\u001b[0m, in \u001b[0;36mpandas._libs.tslibs.conversion.datetime_to_datetime64\u001b[1;34m()\u001b[0m\n",
      "\u001b[1;31mTypeError\u001b[0m: Unrecognized value type: <class 'str'>",
      "\nDuring handling of the above exception, another exception occurred:\n",
      "\u001b[1;31mParserError\u001b[0m                               Traceback (most recent call last)",
      "Input \u001b[1;32mIn [37]\u001b[0m, in \u001b[0;36m<cell line: 3>\u001b[1;34m()\u001b[0m\n\u001b[0;32m      1\u001b[0m date2 \u001b[38;5;241m=\u001b[39m [\u001b[38;5;124m\"\u001b[39m\u001b[38;5;124m2022-03-17\u001b[39m\u001b[38;5;124m\"\u001b[39m,\u001b[38;5;124m\"\u001b[39m\u001b[38;5;124m2022/03/17\u001b[39m\u001b[38;5;124m\"\u001b[39m,\u001b[38;5;124m\"\u001b[39m\u001b[38;5;124mabc\u001b[39m\u001b[38;5;124m\"\u001b[39m]\n\u001b[1;32m----> 3\u001b[0m \u001b[43mpd\u001b[49m\u001b[38;5;241;43m.\u001b[39;49m\u001b[43mto_datetime\u001b[49m\u001b[43m(\u001b[49m\u001b[43mdate2\u001b[49m\u001b[43m)\u001b[49m\n",
      "File \u001b[1;32m~\\anaconda3\\lib\\site-packages\\pandas\\core\\tools\\datetimes.py:1076\u001b[0m, in \u001b[0;36mto_datetime\u001b[1;34m(arg, errors, dayfirst, yearfirst, utc, format, exact, unit, infer_datetime_format, origin, cache)\u001b[0m\n\u001b[0;32m   1074\u001b[0m         result \u001b[38;5;241m=\u001b[39m _convert_and_box_cache(arg, cache_array)\n\u001b[0;32m   1075\u001b[0m     \u001b[38;5;28;01melse\u001b[39;00m:\n\u001b[1;32m-> 1076\u001b[0m         result \u001b[38;5;241m=\u001b[39m \u001b[43mconvert_listlike\u001b[49m\u001b[43m(\u001b[49m\u001b[43marg\u001b[49m\u001b[43m,\u001b[49m\u001b[43m \u001b[49m\u001b[38;5;28;43mformat\u001b[39;49m\u001b[43m)\u001b[49m\n\u001b[0;32m   1077\u001b[0m \u001b[38;5;28;01melse\u001b[39;00m:\n\u001b[0;32m   1078\u001b[0m     result \u001b[38;5;241m=\u001b[39m convert_listlike(np\u001b[38;5;241m.\u001b[39marray([arg]), \u001b[38;5;28mformat\u001b[39m)[\u001b[38;5;241m0\u001b[39m]\n",
      "File \u001b[1;32m~\\anaconda3\\lib\\site-packages\\pandas\\core\\tools\\datetimes.py:402\u001b[0m, in \u001b[0;36m_convert_listlike_datetimes\u001b[1;34m(arg, format, name, tz, unit, errors, infer_datetime_format, dayfirst, yearfirst, exact)\u001b[0m\n\u001b[0;32m    400\u001b[0m \u001b[38;5;28;01massert\u001b[39;00m \u001b[38;5;28mformat\u001b[39m \u001b[38;5;129;01mis\u001b[39;00m \u001b[38;5;28;01mNone\u001b[39;00m \u001b[38;5;129;01mor\u001b[39;00m infer_datetime_format\n\u001b[0;32m    401\u001b[0m utc \u001b[38;5;241m=\u001b[39m tz \u001b[38;5;241m==\u001b[39m \u001b[38;5;124m\"\u001b[39m\u001b[38;5;124mutc\u001b[39m\u001b[38;5;124m\"\u001b[39m\n\u001b[1;32m--> 402\u001b[0m result, tz_parsed \u001b[38;5;241m=\u001b[39m \u001b[43mobjects_to_datetime64ns\u001b[49m\u001b[43m(\u001b[49m\n\u001b[0;32m    403\u001b[0m \u001b[43m    \u001b[49m\u001b[43marg\u001b[49m\u001b[43m,\u001b[49m\n\u001b[0;32m    404\u001b[0m \u001b[43m    \u001b[49m\u001b[43mdayfirst\u001b[49m\u001b[38;5;241;43m=\u001b[39;49m\u001b[43mdayfirst\u001b[49m\u001b[43m,\u001b[49m\n\u001b[0;32m    405\u001b[0m \u001b[43m    \u001b[49m\u001b[43myearfirst\u001b[49m\u001b[38;5;241;43m=\u001b[39;49m\u001b[43myearfirst\u001b[49m\u001b[43m,\u001b[49m\n\u001b[0;32m    406\u001b[0m \u001b[43m    \u001b[49m\u001b[43mutc\u001b[49m\u001b[38;5;241;43m=\u001b[39;49m\u001b[43mutc\u001b[49m\u001b[43m,\u001b[49m\n\u001b[0;32m    407\u001b[0m \u001b[43m    \u001b[49m\u001b[43merrors\u001b[49m\u001b[38;5;241;43m=\u001b[39;49m\u001b[43merrors\u001b[49m\u001b[43m,\u001b[49m\n\u001b[0;32m    408\u001b[0m \u001b[43m    \u001b[49m\u001b[43mrequire_iso8601\u001b[49m\u001b[38;5;241;43m=\u001b[39;49m\u001b[43mrequire_iso8601\u001b[49m\u001b[43m,\u001b[49m\n\u001b[0;32m    409\u001b[0m \u001b[43m    \u001b[49m\u001b[43mallow_object\u001b[49m\u001b[38;5;241;43m=\u001b[39;49m\u001b[38;5;28;43;01mTrue\u001b[39;49;00m\u001b[43m,\u001b[49m\n\u001b[0;32m    410\u001b[0m \u001b[43m\u001b[49m\u001b[43m)\u001b[49m\n\u001b[0;32m    412\u001b[0m \u001b[38;5;28;01mif\u001b[39;00m tz_parsed \u001b[38;5;129;01mis\u001b[39;00m \u001b[38;5;129;01mnot\u001b[39;00m \u001b[38;5;28;01mNone\u001b[39;00m:\n\u001b[0;32m    413\u001b[0m     \u001b[38;5;66;03m# We can take a shortcut since the datetime64 numpy array\u001b[39;00m\n\u001b[0;32m    414\u001b[0m     \u001b[38;5;66;03m# is in UTC\u001b[39;00m\n\u001b[0;32m    415\u001b[0m     dta \u001b[38;5;241m=\u001b[39m DatetimeArray(result, dtype\u001b[38;5;241m=\u001b[39mtz_to_dtype(tz_parsed))\n",
      "File \u001b[1;32m~\\anaconda3\\lib\\site-packages\\pandas\\core\\arrays\\datetimes.py:2217\u001b[0m, in \u001b[0;36mobjects_to_datetime64ns\u001b[1;34m(data, dayfirst, yearfirst, utc, errors, require_iso8601, allow_object, allow_mixed)\u001b[0m\n\u001b[0;32m   2215\u001b[0m         \u001b[38;5;28;01mreturn\u001b[39;00m values\u001b[38;5;241m.\u001b[39mview(\u001b[38;5;124m\"\u001b[39m\u001b[38;5;124mi8\u001b[39m\u001b[38;5;124m\"\u001b[39m), tz_parsed\n\u001b[0;32m   2216\u001b[0m     \u001b[38;5;28;01mexcept\u001b[39;00m (\u001b[38;5;167;01mValueError\u001b[39;00m, \u001b[38;5;167;01mTypeError\u001b[39;00m):\n\u001b[1;32m-> 2217\u001b[0m         \u001b[38;5;28;01mraise\u001b[39;00m err\n\u001b[0;32m   2219\u001b[0m \u001b[38;5;28;01mif\u001b[39;00m tz_parsed \u001b[38;5;129;01mis\u001b[39;00m \u001b[38;5;129;01mnot\u001b[39;00m \u001b[38;5;28;01mNone\u001b[39;00m:\n\u001b[0;32m   2220\u001b[0m     \u001b[38;5;66;03m# We can take a shortcut since the datetime64 numpy array\u001b[39;00m\n\u001b[0;32m   2221\u001b[0m     \u001b[38;5;66;03m#  is in UTC\u001b[39;00m\n\u001b[0;32m   2222\u001b[0m     \u001b[38;5;66;03m# Return i8 values to denote unix timestamps\u001b[39;00m\n\u001b[0;32m   2223\u001b[0m     \u001b[38;5;28;01mreturn\u001b[39;00m result\u001b[38;5;241m.\u001b[39mview(\u001b[38;5;124m\"\u001b[39m\u001b[38;5;124mi8\u001b[39m\u001b[38;5;124m\"\u001b[39m), tz_parsed\n",
      "File \u001b[1;32m~\\anaconda3\\lib\\site-packages\\pandas\\core\\arrays\\datetimes.py:2199\u001b[0m, in \u001b[0;36mobjects_to_datetime64ns\u001b[1;34m(data, dayfirst, yearfirst, utc, errors, require_iso8601, allow_object, allow_mixed)\u001b[0m\n\u001b[0;32m   2197\u001b[0m order: Literal[\u001b[38;5;124m\"\u001b[39m\u001b[38;5;124mF\u001b[39m\u001b[38;5;124m\"\u001b[39m, \u001b[38;5;124m\"\u001b[39m\u001b[38;5;124mC\u001b[39m\u001b[38;5;124m\"\u001b[39m] \u001b[38;5;241m=\u001b[39m \u001b[38;5;124m\"\u001b[39m\u001b[38;5;124mF\u001b[39m\u001b[38;5;124m\"\u001b[39m \u001b[38;5;28;01mif\u001b[39;00m flags\u001b[38;5;241m.\u001b[39mf_contiguous \u001b[38;5;28;01melse\u001b[39;00m \u001b[38;5;124m\"\u001b[39m\u001b[38;5;124mC\u001b[39m\u001b[38;5;124m\"\u001b[39m\n\u001b[0;32m   2198\u001b[0m \u001b[38;5;28;01mtry\u001b[39;00m:\n\u001b[1;32m-> 2199\u001b[0m     result, tz_parsed \u001b[38;5;241m=\u001b[39m \u001b[43mtslib\u001b[49m\u001b[38;5;241;43m.\u001b[39;49m\u001b[43marray_to_datetime\u001b[49m\u001b[43m(\u001b[49m\n\u001b[0;32m   2200\u001b[0m \u001b[43m        \u001b[49m\u001b[43mdata\u001b[49m\u001b[38;5;241;43m.\u001b[39;49m\u001b[43mravel\u001b[49m\u001b[43m(\u001b[49m\u001b[38;5;124;43m\"\u001b[39;49m\u001b[38;5;124;43mK\u001b[39;49m\u001b[38;5;124;43m\"\u001b[39;49m\u001b[43m)\u001b[49m\u001b[43m,\u001b[49m\n\u001b[0;32m   2201\u001b[0m \u001b[43m        \u001b[49m\u001b[43merrors\u001b[49m\u001b[38;5;241;43m=\u001b[39;49m\u001b[43merrors\u001b[49m\u001b[43m,\u001b[49m\n\u001b[0;32m   2202\u001b[0m \u001b[43m        \u001b[49m\u001b[43mutc\u001b[49m\u001b[38;5;241;43m=\u001b[39;49m\u001b[43mutc\u001b[49m\u001b[43m,\u001b[49m\n\u001b[0;32m   2203\u001b[0m \u001b[43m        \u001b[49m\u001b[43mdayfirst\u001b[49m\u001b[38;5;241;43m=\u001b[39;49m\u001b[43mdayfirst\u001b[49m\u001b[43m,\u001b[49m\n\u001b[0;32m   2204\u001b[0m \u001b[43m        \u001b[49m\u001b[43myearfirst\u001b[49m\u001b[38;5;241;43m=\u001b[39;49m\u001b[43myearfirst\u001b[49m\u001b[43m,\u001b[49m\n\u001b[0;32m   2205\u001b[0m \u001b[43m        \u001b[49m\u001b[43mrequire_iso8601\u001b[49m\u001b[38;5;241;43m=\u001b[39;49m\u001b[43mrequire_iso8601\u001b[49m\u001b[43m,\u001b[49m\n\u001b[0;32m   2206\u001b[0m \u001b[43m        \u001b[49m\u001b[43mallow_mixed\u001b[49m\u001b[38;5;241;43m=\u001b[39;49m\u001b[43mallow_mixed\u001b[49m\u001b[43m,\u001b[49m\n\u001b[0;32m   2207\u001b[0m \u001b[43m    \u001b[49m\u001b[43m)\u001b[49m\n\u001b[0;32m   2208\u001b[0m     result \u001b[38;5;241m=\u001b[39m result\u001b[38;5;241m.\u001b[39mreshape(data\u001b[38;5;241m.\u001b[39mshape, order\u001b[38;5;241m=\u001b[39morder)\n\u001b[0;32m   2209\u001b[0m \u001b[38;5;28;01mexcept\u001b[39;00m \u001b[38;5;167;01mValueError\u001b[39;00m \u001b[38;5;28;01mas\u001b[39;00m err:\n",
      "File \u001b[1;32m~\\anaconda3\\lib\\site-packages\\pandas\\_libs\\tslib.pyx:381\u001b[0m, in \u001b[0;36mpandas._libs.tslib.array_to_datetime\u001b[1;34m()\u001b[0m\n",
      "File \u001b[1;32m~\\anaconda3\\lib\\site-packages\\pandas\\_libs\\tslib.pyx:613\u001b[0m, in \u001b[0;36mpandas._libs.tslib.array_to_datetime\u001b[1;34m()\u001b[0m\n",
      "File \u001b[1;32m~\\anaconda3\\lib\\site-packages\\pandas\\_libs\\tslib.pyx:751\u001b[0m, in \u001b[0;36mpandas._libs.tslib._array_to_datetime_object\u001b[1;34m()\u001b[0m\n",
      "File \u001b[1;32m~\\anaconda3\\lib\\site-packages\\pandas\\_libs\\tslib.pyx:742\u001b[0m, in \u001b[0;36mpandas._libs.tslib._array_to_datetime_object\u001b[1;34m()\u001b[0m\n",
      "File \u001b[1;32m~\\anaconda3\\lib\\site-packages\\pandas\\_libs\\tslibs\\parsing.pyx:281\u001b[0m, in \u001b[0;36mpandas._libs.tslibs.parsing.parse_datetime_string\u001b[1;34m()\u001b[0m\n",
      "File \u001b[1;32m~\\anaconda3\\lib\\site-packages\\dateutil\\parser\\_parser.py:1368\u001b[0m, in \u001b[0;36mparse\u001b[1;34m(timestr, parserinfo, **kwargs)\u001b[0m\n\u001b[0;32m   1366\u001b[0m     \u001b[38;5;28;01mreturn\u001b[39;00m parser(parserinfo)\u001b[38;5;241m.\u001b[39mparse(timestr, \u001b[38;5;241m*\u001b[39m\u001b[38;5;241m*\u001b[39mkwargs)\n\u001b[0;32m   1367\u001b[0m \u001b[38;5;28;01melse\u001b[39;00m:\n\u001b[1;32m-> 1368\u001b[0m     \u001b[38;5;28;01mreturn\u001b[39;00m DEFAULTPARSER\u001b[38;5;241m.\u001b[39mparse(timestr, \u001b[38;5;241m*\u001b[39m\u001b[38;5;241m*\u001b[39mkwargs)\n",
      "File \u001b[1;32m~\\anaconda3\\lib\\site-packages\\dateutil\\parser\\_parser.py:643\u001b[0m, in \u001b[0;36mparser.parse\u001b[1;34m(self, timestr, default, ignoretz, tzinfos, **kwargs)\u001b[0m\n\u001b[0;32m    640\u001b[0m res, skipped_tokens \u001b[38;5;241m=\u001b[39m \u001b[38;5;28mself\u001b[39m\u001b[38;5;241m.\u001b[39m_parse(timestr, \u001b[38;5;241m*\u001b[39m\u001b[38;5;241m*\u001b[39mkwargs)\n\u001b[0;32m    642\u001b[0m \u001b[38;5;28;01mif\u001b[39;00m res \u001b[38;5;129;01mis\u001b[39;00m \u001b[38;5;28;01mNone\u001b[39;00m:\n\u001b[1;32m--> 643\u001b[0m     \u001b[38;5;28;01mraise\u001b[39;00m ParserError(\u001b[38;5;124m\"\u001b[39m\u001b[38;5;124mUnknown string format: \u001b[39m\u001b[38;5;132;01m%s\u001b[39;00m\u001b[38;5;124m\"\u001b[39m, timestr)\n\u001b[0;32m    645\u001b[0m \u001b[38;5;28;01mif\u001b[39;00m \u001b[38;5;28mlen\u001b[39m(res) \u001b[38;5;241m==\u001b[39m \u001b[38;5;241m0\u001b[39m:\n\u001b[0;32m    646\u001b[0m     \u001b[38;5;28;01mraise\u001b[39;00m ParserError(\u001b[38;5;124m\"\u001b[39m\u001b[38;5;124mString does not contain a date: \u001b[39m\u001b[38;5;132;01m%s\u001b[39;00m\u001b[38;5;124m\"\u001b[39m, timestr)\n",
      "\u001b[1;31mParserError\u001b[0m: Unknown string format: abc"
     ]
    }
   ],
   "source": [
    "# date2 = [\"2022-03-17\",\"2022/03/17\",\"abc\"]\n",
    "\n",
    "# pd.to_datetime(date2)"
   ]
  },
  {
   "cell_type": "code",
   "execution_count": 38,
   "id": "c9412230",
   "metadata": {},
   "outputs": [
    {
     "data": {
      "text/plain": [
       "Index(['2022-03-17', '2022/03/17', 'abc'], dtype='object')"
      ]
     },
     "execution_count": 38,
     "metadata": {},
     "output_type": "execute_result"
    }
   ],
   "source": [
    "pd.to_datetime(date2,errors=\"ignore\")"
   ]
  },
  {
   "cell_type": "markdown",
   "id": "01ac0454",
   "metadata": {},
   "source": [
    "Epoch Time : \"Number of seconds passed since 1 jan 1970.\""
   ]
  },
  {
   "cell_type": "code",
   "execution_count": 40,
   "id": "8ad95153",
   "metadata": {},
   "outputs": [
    {
     "data": {
      "text/plain": [
       "Timestamp('1972-12-04 19:34:38')"
      ]
     },
     "execution_count": 40,
     "metadata": {},
     "output_type": "execute_result"
    }
   ],
   "source": [
    "t = 92345678\n",
    "pd.to_datetime(t,unit=\"s\")"
   ]
  },
  {
   "cell_type": "code",
   "execution_count": 44,
   "id": "ba63e5af",
   "metadata": {},
   "outputs": [],
   "source": [
    "date = \"2022-03-19\"\n",
    "dt = pd.to_datetime([date])"
   ]
  },
  {
   "cell_type": "code",
   "execution_count": 45,
   "id": "167f7c71",
   "metadata": {},
   "outputs": [
    {
     "data": {
      "text/plain": [
       "array([1647648000000000000], dtype=int64)"
      ]
     },
     "execution_count": 45,
     "metadata": {},
     "output_type": "execute_result"
    }
   ],
   "source": [
    "dt.view(\"int64\")"
   ]
  },
  {
   "cell_type": "markdown",
   "id": "adff74de",
   "metadata": {},
   "source": [
    "# Period and Period Index"
   ]
  },
  {
   "cell_type": "code",
   "execution_count": 49,
   "id": "fb681187",
   "metadata": {},
   "outputs": [
    {
     "data": {
      "text/plain": [
       "Period('2016', 'A-DEC')"
      ]
     },
     "execution_count": 49,
     "metadata": {},
     "output_type": "execute_result"
    }
   ],
   "source": [
    "y = pd.Period(\"2016\")\n",
    "y"
   ]
  },
  {
   "cell_type": "code",
   "execution_count": 50,
   "id": "f0a96b45",
   "metadata": {},
   "outputs": [
    {
     "data": {
      "text/plain": [
       "(Timestamp('2016-01-01 00:00:00'), Timestamp('2016-12-31 23:59:59.999999999'))"
      ]
     },
     "execution_count": 50,
     "metadata": {},
     "output_type": "execute_result"
    }
   ],
   "source": [
    "y.start_time,y.end_time"
   ]
  },
  {
   "cell_type": "code",
   "execution_count": 54,
   "id": "634b57b5",
   "metadata": {},
   "outputs": [
    {
     "data": {
      "text/plain": [
       "Period('2011-01', 'M')"
      ]
     },
     "execution_count": 54,
     "metadata": {},
     "output_type": "execute_result"
    }
   ],
   "source": [
    "# we can create monthly time periods too\n",
    "\n",
    "m = pd.Period(\"2011-01\",freq=\"m\")\n",
    "m"
   ]
  },
  {
   "cell_type": "code",
   "execution_count": 55,
   "id": "ac2dd651",
   "metadata": {},
   "outputs": [
    {
     "data": {
      "text/plain": [
       "(Timestamp('2011-01-01 00:00:00'), Timestamp('2011-01-31 23:59:59.999999999'))"
      ]
     },
     "execution_count": 55,
     "metadata": {},
     "output_type": "execute_result"
    }
   ],
   "source": [
    "m.start_time,m.end_time"
   ]
  },
  {
   "cell_type": "code",
   "execution_count": 56,
   "id": "1a1b8a11",
   "metadata": {},
   "outputs": [
    {
     "data": {
      "text/plain": [
       "Period('2011-02', 'M')"
      ]
     },
     "execution_count": 56,
     "metadata": {},
     "output_type": "execute_result"
    }
   ],
   "source": [
    "m+1\n"
   ]
  },
  {
   "cell_type": "code",
   "execution_count": 57,
   "id": "5382a6c1",
   "metadata": {},
   "outputs": [
    {
     "data": {
      "text/plain": [
       "Period('2012-03-01 23:00', 'H')"
      ]
     },
     "execution_count": 57,
     "metadata": {},
     "output_type": "execute_result"
    }
   ],
   "source": [
    "# We can do hourly time periods \n",
    "\n",
    "h = pd.Period(\"2012-03-01 23:00:00\",freq=\"h\")\n",
    "h"
   ]
  },
  {
   "cell_type": "code",
   "execution_count": 58,
   "id": "ad6085e9",
   "metadata": {},
   "outputs": [
    {
     "data": {
      "text/plain": [
       "Period('2012-03-02 00:00', 'H')"
      ]
     },
     "execution_count": 58,
     "metadata": {},
     "output_type": "execute_result"
    }
   ],
   "source": [
    "h+1"
   ]
  },
  {
   "cell_type": "code",
   "execution_count": 59,
   "id": "28c10dcc",
   "metadata": {},
   "outputs": [
    {
     "data": {
      "text/plain": [
       "Period('2018Q1', 'Q-DEC')"
      ]
     },
     "execution_count": 59,
     "metadata": {},
     "output_type": "execute_result"
    }
   ],
   "source": [
    "q = pd.Period(\"2018q1\")\n",
    "q"
   ]
  },
  {
   "cell_type": "code",
   "execution_count": 60,
   "id": "97a90f95",
   "metadata": {},
   "outputs": [
    {
     "data": {
      "text/plain": [
       "Period('2017Q3', 'Q-DEC')"
      ]
     },
     "execution_count": 60,
     "metadata": {},
     "output_type": "execute_result"
    }
   ],
   "source": [
    "q-2"
   ]
  },
  {
   "cell_type": "markdown",
   "id": "2aa2b5d9",
   "metadata": {},
   "source": [
    "If a company's calendar time starts from feb to jan...."
   ]
  },
  {
   "cell_type": "code",
   "execution_count": 70,
   "id": "1f44da4e",
   "metadata": {},
   "outputs": [
    {
     "data": {
      "text/plain": [
       "Timestamp('2010-02-01 00:00:00')"
      ]
     },
     "execution_count": 70,
     "metadata": {},
     "output_type": "execute_result"
    }
   ],
   "source": [
    "q = pd.Period(\"2011q1\",freq=\"Q-jan\")\n",
    "q.start_time"
   ]
  },
  {
   "cell_type": "code",
   "execution_count": 74,
   "id": "74f00603",
   "metadata": {},
   "outputs": [
    {
     "data": {
      "text/plain": [
       "Timestamp('2010-02-01 00:00:00')"
      ]
     },
     "execution_count": 74,
     "metadata": {},
     "output_type": "execute_result"
    }
   ],
   "source": [
    "p = q.asfreq(\"m\",how=\"start\")\n",
    "p.start_time"
   ]
  },
  {
   "cell_type": "code",
   "execution_count": 73,
   "id": "2b096394",
   "metadata": {},
   "outputs": [
    {
     "data": {
      "text/plain": [
       "Period('2010-03', 'M')"
      ]
     },
     "execution_count": 73,
     "metadata": {},
     "output_type": "execute_result"
    }
   ],
   "source": [
    "p+1"
   ]
  },
  {
   "cell_type": "markdown",
   "id": "494b9ed8",
   "metadata": {},
   "source": [
    "**Creating period index :**"
   ]
  },
  {
   "cell_type": "code",
   "execution_count": 79,
   "id": "669e1872",
   "metadata": {},
   "outputs": [
    {
     "data": {
      "text/plain": [
       "PeriodIndex(['2017-01', '2017-02', '2017-03', '2017-04', '2017-05', '2017-06',\n",
       "             '2017-07', '2017-08', '2017-09', '2017-10', '2017-11', '2017-12',\n",
       "             '2018-01', '2018-02', '2018-03', '2018-04', '2018-05', '2018-06',\n",
       "             '2018-07', '2018-08', '2018-09', '2018-10', '2018-11', '2018-12',\n",
       "             '2019-01'],\n",
       "            dtype='period[M]')"
      ]
     },
     "execution_count": 79,
     "metadata": {},
     "output_type": "execute_result"
    }
   ],
   "source": [
    "indx = pd.period_range(\"2017\",\"2019\",freq=\"m\")\n",
    "indx"
   ]
  },
  {
   "cell_type": "code",
   "execution_count": 80,
   "id": "67bcc72c",
   "metadata": {},
   "outputs": [
    {
     "data": {
      "text/plain": [
       "PeriodIndex(['2016Q1', '2016Q2', '2016Q3', '2016Q4', '2017Q1'], dtype='period[Q-DEC]')"
      ]
     },
     "execution_count": 80,
     "metadata": {},
     "output_type": "execute_result"
    }
   ],
   "source": [
    "indx = pd.period_range(\"2016\",\"2017\",freq=\"q\")\n",
    "indx"
   ]
  },
  {
   "cell_type": "code",
   "execution_count": 85,
   "id": "13266af4",
   "metadata": {},
   "outputs": [
    {
     "data": {
      "text/plain": [
       "2016Q1    4\n",
       "2016Q2    5\n",
       "2016Q3    2\n",
       "2016Q4    9\n",
       "2017Q1    3\n",
       "Freq: Q-DEC, dtype: int32"
      ]
     },
     "execution_count": 85,
     "metadata": {},
     "output_type": "execute_result"
    }
   ],
   "source": [
    "x = pd.Series(np.random.randint(1,10,len(indx)),indx)\n",
    "x"
   ]
  },
  {
   "cell_type": "code",
   "execution_count": 87,
   "id": "b6ce6f72",
   "metadata": {},
   "outputs": [
    {
     "data": {
      "text/plain": [
       "2017Q1    3\n",
       "Freq: Q-DEC, dtype: int32"
      ]
     },
     "execution_count": 87,
     "metadata": {},
     "output_type": "execute_result"
    }
   ],
   "source": [
    "# If we want the data rows of year 2017 only\n",
    "\n",
    "x[\"2017\"]"
   ]
  },
  {
   "cell_type": "code",
   "execution_count": 88,
   "id": "b15e7abe",
   "metadata": {},
   "outputs": [
    {
     "data": {
      "text/plain": [
       "PeriodIndex(['2016Q1', '2016Q2', '2016Q3', '2016Q4', '2017Q1'], dtype='period[Q-DEC]')"
      ]
     },
     "execution_count": 88,
     "metadata": {},
     "output_type": "execute_result"
    }
   ],
   "source": [
    "x.index"
   ]
  },
  {
   "cell_type": "code",
   "execution_count": 93,
   "id": "d3526d7a",
   "metadata": {},
   "outputs": [
    {
     "data": {
      "text/plain": [
       "2016-01-01    4\n",
       "2016-04-01    5\n",
       "2016-07-01    2\n",
       "2016-10-01    9\n",
       "2017-01-01    3\n",
       "Freq: QS-OCT, dtype: int32"
      ]
     },
     "execution_count": 93,
     "metadata": {},
     "output_type": "execute_result"
    }
   ],
   "source": [
    "x_ts = x.to_timestamp()\n",
    "x_ts"
   ]
  },
  {
   "cell_type": "markdown",
   "id": "a04a7d70",
   "metadata": {},
   "source": [
    "<ul>\n",
    "    <li>pd.to_timestamp() - Used to convert period values into timestamp type.</li>\n",
    "    <li>pd.to_period() - Used to convert timestamp values into period value.</li>\n",
    "</ul>"
   ]
  },
  {
   "cell_type": "markdown",
   "id": "2ae6cd52",
   "metadata": {},
   "source": [
    "# Exercise : "
   ]
  },
  {
   "cell_type": "code",
   "execution_count": 109,
   "id": "d1e2f8e7",
   "metadata": {},
   "outputs": [],
   "source": [
    "file = {\"Line Item\":[\"Revenue\",\"Expenses\",\"Profit\"],\n",
    "       \"2017q1\":[118974,89485,29360],\n",
    "       \"2017q2\":[120854,89485,31369],\n",
    "       \"2017q3\":[117845,87484,30965],\n",
    "       \"2017q4\":[130936,97743,33193],\n",
    "       \"2018q1\":[117542,87688,29854]}"
   ]
  },
  {
   "cell_type": "code",
   "execution_count": 110,
   "id": "76e20210",
   "metadata": {},
   "outputs": [
    {
     "data": {
      "text/html": [
       "<div>\n",
       "<style scoped>\n",
       "    .dataframe tbody tr th:only-of-type {\n",
       "        vertical-align: middle;\n",
       "    }\n",
       "\n",
       "    .dataframe tbody tr th {\n",
       "        vertical-align: top;\n",
       "    }\n",
       "\n",
       "    .dataframe thead th {\n",
       "        text-align: right;\n",
       "    }\n",
       "</style>\n",
       "<table border=\"1\" class=\"dataframe\">\n",
       "  <thead>\n",
       "    <tr style=\"text-align: right;\">\n",
       "      <th></th>\n",
       "      <th>Line Item</th>\n",
       "      <th>2017q1</th>\n",
       "      <th>2017q2</th>\n",
       "      <th>2017q3</th>\n",
       "      <th>2017q4</th>\n",
       "      <th>2018q1</th>\n",
       "    </tr>\n",
       "  </thead>\n",
       "  <tbody>\n",
       "    <tr>\n",
       "      <th>0</th>\n",
       "      <td>Revenue</td>\n",
       "      <td>118974</td>\n",
       "      <td>120854</td>\n",
       "      <td>117845</td>\n",
       "      <td>130936</td>\n",
       "      <td>117542</td>\n",
       "    </tr>\n",
       "    <tr>\n",
       "      <th>1</th>\n",
       "      <td>Expenses</td>\n",
       "      <td>89485</td>\n",
       "      <td>89485</td>\n",
       "      <td>87484</td>\n",
       "      <td>97743</td>\n",
       "      <td>87688</td>\n",
       "    </tr>\n",
       "    <tr>\n",
       "      <th>2</th>\n",
       "      <td>Profit</td>\n",
       "      <td>29360</td>\n",
       "      <td>31369</td>\n",
       "      <td>30965</td>\n",
       "      <td>33193</td>\n",
       "      <td>29854</td>\n",
       "    </tr>\n",
       "  </tbody>\n",
       "</table>\n",
       "</div>"
      ],
      "text/plain": [
       "  Line Item  2017q1  2017q2  2017q3  2017q4  2018q1\n",
       "0   Revenue  118974  120854  117845  130936  117542\n",
       "1  Expenses   89485   89485   87484   97743   87688\n",
       "2    Profit   29360   31369   30965   33193   29854"
      ]
     },
     "execution_count": 110,
     "metadata": {},
     "output_type": "execute_result"
    }
   ],
   "source": [
    "df = pd.DataFrame(file)\n",
    "df"
   ]
  },
  {
   "cell_type": "code",
   "execution_count": 111,
   "id": "959a3f6b",
   "metadata": {},
   "outputs": [
    {
     "data": {
      "text/html": [
       "<div>\n",
       "<style scoped>\n",
       "    .dataframe tbody tr th:only-of-type {\n",
       "        vertical-align: middle;\n",
       "    }\n",
       "\n",
       "    .dataframe tbody tr th {\n",
       "        vertical-align: top;\n",
       "    }\n",
       "\n",
       "    .dataframe thead th {\n",
       "        text-align: right;\n",
       "    }\n",
       "</style>\n",
       "<table border=\"1\" class=\"dataframe\">\n",
       "  <thead>\n",
       "    <tr style=\"text-align: right;\">\n",
       "      <th></th>\n",
       "      <th>2017q1</th>\n",
       "      <th>2017q2</th>\n",
       "      <th>2017q3</th>\n",
       "      <th>2017q4</th>\n",
       "      <th>2018q1</th>\n",
       "    </tr>\n",
       "    <tr>\n",
       "      <th>Line Item</th>\n",
       "      <th></th>\n",
       "      <th></th>\n",
       "      <th></th>\n",
       "      <th></th>\n",
       "      <th></th>\n",
       "    </tr>\n",
       "  </thead>\n",
       "  <tbody>\n",
       "    <tr>\n",
       "      <th>Revenue</th>\n",
       "      <td>118974</td>\n",
       "      <td>120854</td>\n",
       "      <td>117845</td>\n",
       "      <td>130936</td>\n",
       "      <td>117542</td>\n",
       "    </tr>\n",
       "    <tr>\n",
       "      <th>Expenses</th>\n",
       "      <td>89485</td>\n",
       "      <td>89485</td>\n",
       "      <td>87484</td>\n",
       "      <td>97743</td>\n",
       "      <td>87688</td>\n",
       "    </tr>\n",
       "    <tr>\n",
       "      <th>Profit</th>\n",
       "      <td>29360</td>\n",
       "      <td>31369</td>\n",
       "      <td>30965</td>\n",
       "      <td>33193</td>\n",
       "      <td>29854</td>\n",
       "    </tr>\n",
       "  </tbody>\n",
       "</table>\n",
       "</div>"
      ],
      "text/plain": [
       "           2017q1  2017q2  2017q3  2017q4  2018q1\n",
       "Line Item                                        \n",
       "Revenue    118974  120854  117845  130936  117542\n",
       "Expenses    89485   89485   87484   97743   87688\n",
       "Profit      29360   31369   30965   33193   29854"
      ]
     },
     "execution_count": 111,
     "metadata": {},
     "output_type": "execute_result"
    }
   ],
   "source": [
    "df.set_index(\"Line Item\",inplace=True)\n",
    "df"
   ]
  },
  {
   "cell_type": "code",
   "execution_count": 112,
   "id": "64c22059",
   "metadata": {},
   "outputs": [
    {
     "data": {
      "text/html": [
       "<div>\n",
       "<style scoped>\n",
       "    .dataframe tbody tr th:only-of-type {\n",
       "        vertical-align: middle;\n",
       "    }\n",
       "\n",
       "    .dataframe tbody tr th {\n",
       "        vertical-align: top;\n",
       "    }\n",
       "\n",
       "    .dataframe thead th {\n",
       "        text-align: right;\n",
       "    }\n",
       "</style>\n",
       "<table border=\"1\" class=\"dataframe\">\n",
       "  <thead>\n",
       "    <tr style=\"text-align: right;\">\n",
       "      <th>Line Item</th>\n",
       "      <th>Revenue</th>\n",
       "      <th>Expenses</th>\n",
       "      <th>Profit</th>\n",
       "    </tr>\n",
       "  </thead>\n",
       "  <tbody>\n",
       "    <tr>\n",
       "      <th>2017q1</th>\n",
       "      <td>118974</td>\n",
       "      <td>89485</td>\n",
       "      <td>29360</td>\n",
       "    </tr>\n",
       "    <tr>\n",
       "      <th>2017q2</th>\n",
       "      <td>120854</td>\n",
       "      <td>89485</td>\n",
       "      <td>31369</td>\n",
       "    </tr>\n",
       "    <tr>\n",
       "      <th>2017q3</th>\n",
       "      <td>117845</td>\n",
       "      <td>87484</td>\n",
       "      <td>30965</td>\n",
       "    </tr>\n",
       "    <tr>\n",
       "      <th>2017q4</th>\n",
       "      <td>130936</td>\n",
       "      <td>97743</td>\n",
       "      <td>33193</td>\n",
       "    </tr>\n",
       "    <tr>\n",
       "      <th>2018q1</th>\n",
       "      <td>117542</td>\n",
       "      <td>87688</td>\n",
       "      <td>29854</td>\n",
       "    </tr>\n",
       "  </tbody>\n",
       "</table>\n",
       "</div>"
      ],
      "text/plain": [
       "Line Item  Revenue  Expenses  Profit\n",
       "2017q1      118974     89485   29360\n",
       "2017q2      120854     89485   31369\n",
       "2017q3      117845     87484   30965\n",
       "2017q4      130936     97743   33193\n",
       "2018q1      117542     87688   29854"
      ]
     },
     "execution_count": 112,
     "metadata": {},
     "output_type": "execute_result"
    }
   ],
   "source": [
    "df = df.T\n",
    "df"
   ]
  },
  {
   "cell_type": "code",
   "execution_count": 119,
   "id": "b27339ea",
   "metadata": {},
   "outputs": [
    {
     "data": {
      "text/plain": [
       "PeriodIndex(['2017Q1', '2017Q2', '2017Q3', '2017Q4', '2018Q1'], dtype='period[Q-JAN]')"
      ]
     },
     "execution_count": 119,
     "metadata": {},
     "output_type": "execute_result"
    }
   ],
   "source": [
    "# converting our regular onject type to period index type\n",
    "\n",
    "df.index = pd.PeriodIndex(df.index,freq = \"q-jan\")\n",
    "df.index"
   ]
  },
  {
   "cell_type": "code",
   "execution_count": 121,
   "id": "bb752bff",
   "metadata": {},
   "outputs": [],
   "source": [
    "df[\"Start Time\"] = df.index.map(lambda x : x.start_time)"
   ]
  },
  {
   "cell_type": "code",
   "execution_count": 122,
   "id": "b7f9355f",
   "metadata": {},
   "outputs": [
    {
     "data": {
      "text/html": [
       "<div>\n",
       "<style scoped>\n",
       "    .dataframe tbody tr th:only-of-type {\n",
       "        vertical-align: middle;\n",
       "    }\n",
       "\n",
       "    .dataframe tbody tr th {\n",
       "        vertical-align: top;\n",
       "    }\n",
       "\n",
       "    .dataframe thead th {\n",
       "        text-align: right;\n",
       "    }\n",
       "</style>\n",
       "<table border=\"1\" class=\"dataframe\">\n",
       "  <thead>\n",
       "    <tr style=\"text-align: right;\">\n",
       "      <th>Line Item</th>\n",
       "      <th>Revenue</th>\n",
       "      <th>Expenses</th>\n",
       "      <th>Profit</th>\n",
       "      <th>Start Time</th>\n",
       "    </tr>\n",
       "  </thead>\n",
       "  <tbody>\n",
       "    <tr>\n",
       "      <th>2017Q1</th>\n",
       "      <td>118974</td>\n",
       "      <td>89485</td>\n",
       "      <td>29360</td>\n",
       "      <td>2016-02-01</td>\n",
       "    </tr>\n",
       "    <tr>\n",
       "      <th>2017Q2</th>\n",
       "      <td>120854</td>\n",
       "      <td>89485</td>\n",
       "      <td>31369</td>\n",
       "      <td>2016-05-01</td>\n",
       "    </tr>\n",
       "    <tr>\n",
       "      <th>2017Q3</th>\n",
       "      <td>117845</td>\n",
       "      <td>87484</td>\n",
       "      <td>30965</td>\n",
       "      <td>2016-08-01</td>\n",
       "    </tr>\n",
       "    <tr>\n",
       "      <th>2017Q4</th>\n",
       "      <td>130936</td>\n",
       "      <td>97743</td>\n",
       "      <td>33193</td>\n",
       "      <td>2016-11-01</td>\n",
       "    </tr>\n",
       "    <tr>\n",
       "      <th>2018Q1</th>\n",
       "      <td>117542</td>\n",
       "      <td>87688</td>\n",
       "      <td>29854</td>\n",
       "      <td>2017-02-01</td>\n",
       "    </tr>\n",
       "  </tbody>\n",
       "</table>\n",
       "</div>"
      ],
      "text/plain": [
       "Line Item  Revenue  Expenses  Profit Start Time\n",
       "2017Q1      118974     89485   29360 2016-02-01\n",
       "2017Q2      120854     89485   31369 2016-05-01\n",
       "2017Q3      117845     87484   30965 2016-08-01\n",
       "2017Q4      130936     97743   33193 2016-11-01\n",
       "2018Q1      117542     87688   29854 2017-02-01"
      ]
     },
     "execution_count": 122,
     "metadata": {},
     "output_type": "execute_result"
    }
   ],
   "source": [
    "df"
   ]
  },
  {
   "cell_type": "code",
   "execution_count": 132,
   "id": "ad5b535a",
   "metadata": {},
   "outputs": [],
   "source": [
    "df[\"End Date\"] = df.index.map(lambda x : x.end_time)"
   ]
  },
  {
   "cell_type": "code",
   "execution_count": 128,
   "id": "6cc4ca54",
   "metadata": {
    "scrolled": true
   },
   "outputs": [
    {
     "data": {
      "text/html": [
       "<div>\n",
       "<style scoped>\n",
       "    .dataframe tbody tr th:only-of-type {\n",
       "        vertical-align: middle;\n",
       "    }\n",
       "\n",
       "    .dataframe tbody tr th {\n",
       "        vertical-align: top;\n",
       "    }\n",
       "\n",
       "    .dataframe thead th {\n",
       "        text-align: right;\n",
       "    }\n",
       "</style>\n",
       "<table border=\"1\" class=\"dataframe\">\n",
       "  <thead>\n",
       "    <tr style=\"text-align: right;\">\n",
       "      <th>Line Item</th>\n",
       "      <th>Revenue</th>\n",
       "      <th>Expenses</th>\n",
       "      <th>Profit</th>\n",
       "      <th>Start Time</th>\n",
       "      <th>End Date</th>\n",
       "    </tr>\n",
       "  </thead>\n",
       "  <tbody>\n",
       "    <tr>\n",
       "      <th>2017Q1</th>\n",
       "      <td>118974</td>\n",
       "      <td>89485</td>\n",
       "      <td>29360</td>\n",
       "      <td>2016-02-01</td>\n",
       "      <td>2016-04-30 23:59:59.999999999</td>\n",
       "    </tr>\n",
       "    <tr>\n",
       "      <th>2017Q2</th>\n",
       "      <td>120854</td>\n",
       "      <td>89485</td>\n",
       "      <td>31369</td>\n",
       "      <td>2016-05-01</td>\n",
       "      <td>2016-07-31 23:59:59.999999999</td>\n",
       "    </tr>\n",
       "    <tr>\n",
       "      <th>2017Q3</th>\n",
       "      <td>117845</td>\n",
       "      <td>87484</td>\n",
       "      <td>30965</td>\n",
       "      <td>2016-08-01</td>\n",
       "      <td>2016-10-31 23:59:59.999999999</td>\n",
       "    </tr>\n",
       "    <tr>\n",
       "      <th>2017Q4</th>\n",
       "      <td>130936</td>\n",
       "      <td>97743</td>\n",
       "      <td>33193</td>\n",
       "      <td>2016-11-01</td>\n",
       "      <td>2017-01-31 23:59:59.999999999</td>\n",
       "    </tr>\n",
       "    <tr>\n",
       "      <th>2018Q1</th>\n",
       "      <td>117542</td>\n",
       "      <td>87688</td>\n",
       "      <td>29854</td>\n",
       "      <td>2017-02-01</td>\n",
       "      <td>2017-04-30 23:59:59.999999999</td>\n",
       "    </tr>\n",
       "  </tbody>\n",
       "</table>\n",
       "</div>"
      ],
      "text/plain": [
       "Line Item  Revenue  Expenses  Profit Start Time                      End Date\n",
       "2017Q1      118974     89485   29360 2016-02-01 2016-04-30 23:59:59.999999999\n",
       "2017Q2      120854     89485   31369 2016-05-01 2016-07-31 23:59:59.999999999\n",
       "2017Q3      117845     87484   30965 2016-08-01 2016-10-31 23:59:59.999999999\n",
       "2017Q4      130936     97743   33193 2016-11-01 2017-01-31 23:59:59.999999999\n",
       "2018Q1      117542     87688   29854 2017-02-01 2017-04-30 23:59:59.999999999"
      ]
     },
     "execution_count": 128,
     "metadata": {},
     "output_type": "execute_result"
    }
   ],
   "source": [
    "df"
   ]
  },
  {
   "cell_type": "code",
   "execution_count": 8,
   "id": "b228188a",
   "metadata": {},
   "outputs": [],
   "source": [
    "df = pd.read_csv(r\"C:\\Users\\PRIYAM\\Downloads\\WIPRO.NS.csv\",parse_dates=True,index_col=\"Date\")"
   ]
  },
  {
   "cell_type": "code",
   "execution_count": 9,
   "id": "1ff1b682",
   "metadata": {},
   "outputs": [
    {
     "data": {
      "text/html": [
       "<div>\n",
       "<style scoped>\n",
       "    .dataframe tbody tr th:only-of-type {\n",
       "        vertical-align: middle;\n",
       "    }\n",
       "\n",
       "    .dataframe tbody tr th {\n",
       "        vertical-align: top;\n",
       "    }\n",
       "\n",
       "    .dataframe thead th {\n",
       "        text-align: right;\n",
       "    }\n",
       "</style>\n",
       "<table border=\"1\" class=\"dataframe\">\n",
       "  <thead>\n",
       "    <tr style=\"text-align: right;\">\n",
       "      <th></th>\n",
       "      <th>Open</th>\n",
       "      <th>High</th>\n",
       "      <th>Low</th>\n",
       "      <th>Close</th>\n",
       "      <th>Adj Close</th>\n",
       "      <th>Volume</th>\n",
       "    </tr>\n",
       "    <tr>\n",
       "      <th>Date</th>\n",
       "      <th></th>\n",
       "      <th></th>\n",
       "      <th></th>\n",
       "      <th></th>\n",
       "      <th></th>\n",
       "      <th></th>\n",
       "    </tr>\n",
       "  </thead>\n",
       "  <tbody>\n",
       "    <tr>\n",
       "      <th>2022-02-21</th>\n",
       "      <td>555.750000</td>\n",
       "      <td>572.700012</td>\n",
       "      <td>555.400024</td>\n",
       "      <td>570.799988</td>\n",
       "      <td>564.696411</td>\n",
       "      <td>8767001</td>\n",
       "    </tr>\n",
       "    <tr>\n",
       "      <th>2022-02-22</th>\n",
       "      <td>556.250000</td>\n",
       "      <td>569.000000</td>\n",
       "      <td>556.099976</td>\n",
       "      <td>564.150024</td>\n",
       "      <td>558.117615</td>\n",
       "      <td>10745062</td>\n",
       "    </tr>\n",
       "    <tr>\n",
       "      <th>2022-02-23</th>\n",
       "      <td>569.200012</td>\n",
       "      <td>570.900024</td>\n",
       "      <td>562.650024</td>\n",
       "      <td>567.099976</td>\n",
       "      <td>561.036011</td>\n",
       "      <td>7204256</td>\n",
       "    </tr>\n",
       "    <tr>\n",
       "      <th>2022-02-24</th>\n",
       "      <td>548.000000</td>\n",
       "      <td>556.900024</td>\n",
       "      <td>531.150024</td>\n",
       "      <td>537.150024</td>\n",
       "      <td>531.406311</td>\n",
       "      <td>13476944</td>\n",
       "    </tr>\n",
       "    <tr>\n",
       "      <th>2022-02-25</th>\n",
       "      <td>548.000000</td>\n",
       "      <td>558.750000</td>\n",
       "      <td>547.500000</td>\n",
       "      <td>555.250000</td>\n",
       "      <td>549.312744</td>\n",
       "      <td>7961312</td>\n",
       "    </tr>\n",
       "  </tbody>\n",
       "</table>\n",
       "</div>"
      ],
      "text/plain": [
       "                  Open        High         Low       Close   Adj Close  \\\n",
       "Date                                                                     \n",
       "2022-02-21  555.750000  572.700012  555.400024  570.799988  564.696411   \n",
       "2022-02-22  556.250000  569.000000  556.099976  564.150024  558.117615   \n",
       "2022-02-23  569.200012  570.900024  562.650024  567.099976  561.036011   \n",
       "2022-02-24  548.000000  556.900024  531.150024  537.150024  531.406311   \n",
       "2022-02-25  548.000000  558.750000  547.500000  555.250000  549.312744   \n",
       "\n",
       "              Volume  \n",
       "Date                  \n",
       "2022-02-21   8767001  \n",
       "2022-02-22  10745062  \n",
       "2022-02-23   7204256  \n",
       "2022-02-24  13476944  \n",
       "2022-02-25   7961312  "
      ]
     },
     "execution_count": 9,
     "metadata": {},
     "output_type": "execute_result"
    }
   ],
   "source": [
    "df.head()"
   ]
  },
  {
   "cell_type": "code",
   "execution_count": 13,
   "id": "6f45a501",
   "metadata": {},
   "outputs": [
    {
     "data": {
      "text/html": [
       "<div>\n",
       "<style scoped>\n",
       "    .dataframe tbody tr th:only-of-type {\n",
       "        vertical-align: middle;\n",
       "    }\n",
       "\n",
       "    .dataframe tbody tr th {\n",
       "        vertical-align: top;\n",
       "    }\n",
       "\n",
       "    .dataframe thead th {\n",
       "        text-align: right;\n",
       "    }\n",
       "</style>\n",
       "<table border=\"1\" class=\"dataframe\">\n",
       "  <thead>\n",
       "    <tr style=\"text-align: right;\">\n",
       "      <th></th>\n",
       "      <th>Open</th>\n",
       "    </tr>\n",
       "    <tr>\n",
       "      <th>Date</th>\n",
       "      <th></th>\n",
       "    </tr>\n",
       "  </thead>\n",
       "  <tbody>\n",
       "    <tr>\n",
       "      <th>2022-02-21</th>\n",
       "      <td>555.750000</td>\n",
       "    </tr>\n",
       "    <tr>\n",
       "      <th>2022-02-22</th>\n",
       "      <td>556.250000</td>\n",
       "    </tr>\n",
       "    <tr>\n",
       "      <th>2022-02-23</th>\n",
       "      <td>569.200012</td>\n",
       "    </tr>\n",
       "    <tr>\n",
       "      <th>2022-02-24</th>\n",
       "      <td>548.000000</td>\n",
       "    </tr>\n",
       "    <tr>\n",
       "      <th>2022-02-25</th>\n",
       "      <td>548.000000</td>\n",
       "    </tr>\n",
       "  </tbody>\n",
       "</table>\n",
       "</div>"
      ],
      "text/plain": [
       "                  Open\n",
       "Date                  \n",
       "2022-02-21  555.750000\n",
       "2022-02-22  556.250000\n",
       "2022-02-23  569.200012\n",
       "2022-02-24  548.000000\n",
       "2022-02-25  548.000000"
      ]
     },
     "execution_count": 13,
     "metadata": {},
     "output_type": "execute_result"
    }
   ],
   "source": [
    "data = df.iloc[0:5,0:1]\n",
    "data"
   ]
  },
  {
   "cell_type": "code",
   "execution_count": 14,
   "id": "00a820b2",
   "metadata": {},
   "outputs": [
    {
     "data": {
      "text/plain": [
       "DatetimeIndex(['2022-02-21', '2022-02-22', '2022-02-23', '2022-02-24',\n",
       "               '2022-02-25'],\n",
       "              dtype='datetime64[ns]', name='Date', freq=None)"
      ]
     },
     "execution_count": 14,
     "metadata": {},
     "output_type": "execute_result"
    }
   ],
   "source": [
    "data.index"
   ]
  },
  {
   "cell_type": "code",
   "execution_count": 17,
   "id": "a1fd869c",
   "metadata": {},
   "outputs": [
    {
     "data": {
      "text/plain": [
       "['Africa/Abidjan', 'Africa/Accra', 'Africa/Addis_Ababa', 'Africa/Algiers', 'Africa/Asmara', 'Africa/Asmera', 'Africa/Bamako', 'Africa/Bangui', 'Africa/Banjul', 'Africa/Bissau', 'Africa/Blantyre', 'Africa/Brazzaville', 'Africa/Bujumbura', 'Africa/Cairo', 'Africa/Casablanca', 'Africa/Ceuta', 'Africa/Conakry', 'Africa/Dakar', 'Africa/Dar_es_Salaam', 'Africa/Djibouti', 'Africa/Douala', 'Africa/El_Aaiun', 'Africa/Freetown', 'Africa/Gaborone', 'Africa/Harare', 'Africa/Johannesburg', 'Africa/Juba', 'Africa/Kampala', 'Africa/Khartoum', 'Africa/Kigali', 'Africa/Kinshasa', 'Africa/Lagos', 'Africa/Libreville', 'Africa/Lome', 'Africa/Luanda', 'Africa/Lubumbashi', 'Africa/Lusaka', 'Africa/Malabo', 'Africa/Maputo', 'Africa/Maseru', 'Africa/Mbabane', 'Africa/Mogadishu', 'Africa/Monrovia', 'Africa/Nairobi', 'Africa/Ndjamena', 'Africa/Niamey', 'Africa/Nouakchott', 'Africa/Ouagadougou', 'Africa/Porto-Novo', 'Africa/Sao_Tome', 'Africa/Timbuktu', 'Africa/Tripoli', 'Africa/Tunis', 'Africa/Windhoek', 'America/Adak', 'America/Anchorage', 'America/Anguilla', 'America/Antigua', 'America/Araguaina', 'America/Argentina/Buenos_Aires', 'America/Argentina/Catamarca', 'America/Argentina/ComodRivadavia', 'America/Argentina/Cordoba', 'America/Argentina/Jujuy', 'America/Argentina/La_Rioja', 'America/Argentina/Mendoza', 'America/Argentina/Rio_Gallegos', 'America/Argentina/Salta', 'America/Argentina/San_Juan', 'America/Argentina/San_Luis', 'America/Argentina/Tucuman', 'America/Argentina/Ushuaia', 'America/Aruba', 'America/Asuncion', 'America/Atikokan', 'America/Atka', 'America/Bahia', 'America/Bahia_Banderas', 'America/Barbados', 'America/Belem', 'America/Belize', 'America/Blanc-Sablon', 'America/Boa_Vista', 'America/Bogota', 'America/Boise', 'America/Buenos_Aires', 'America/Cambridge_Bay', 'America/Campo_Grande', 'America/Cancun', 'America/Caracas', 'America/Catamarca', 'America/Cayenne', 'America/Cayman', 'America/Chicago', 'America/Chihuahua', 'America/Coral_Harbour', 'America/Cordoba', 'America/Costa_Rica', 'America/Creston', 'America/Cuiaba', 'America/Curacao', 'America/Danmarkshavn', 'America/Dawson', 'America/Dawson_Creek', 'America/Denver', 'America/Detroit', 'America/Dominica', 'America/Edmonton', 'America/Eirunepe', 'America/El_Salvador', 'America/Ensenada', 'America/Fort_Nelson', 'America/Fort_Wayne', 'America/Fortaleza', 'America/Glace_Bay', 'America/Godthab', 'America/Goose_Bay', 'America/Grand_Turk', 'America/Grenada', 'America/Guadeloupe', 'America/Guatemala', 'America/Guayaquil', 'America/Guyana', 'America/Halifax', 'America/Havana', 'America/Hermosillo', 'America/Indiana/Indianapolis', 'America/Indiana/Knox', 'America/Indiana/Marengo', 'America/Indiana/Petersburg', 'America/Indiana/Tell_City', 'America/Indiana/Vevay', 'America/Indiana/Vincennes', 'America/Indiana/Winamac', 'America/Indianapolis', 'America/Inuvik', 'America/Iqaluit', 'America/Jamaica', 'America/Jujuy', 'America/Juneau', 'America/Kentucky/Louisville', 'America/Kentucky/Monticello', 'America/Knox_IN', 'America/Kralendijk', 'America/La_Paz', 'America/Lima', 'America/Los_Angeles', 'America/Louisville', 'America/Lower_Princes', 'America/Maceio', 'America/Managua', 'America/Manaus', 'America/Marigot', 'America/Martinique', 'America/Matamoros', 'America/Mazatlan', 'America/Mendoza', 'America/Menominee', 'America/Merida', 'America/Metlakatla', 'America/Mexico_City', 'America/Miquelon', 'America/Moncton', 'America/Monterrey', 'America/Montevideo', 'America/Montreal', 'America/Montserrat', 'America/Nassau', 'America/New_York', 'America/Nipigon', 'America/Nome', 'America/Noronha', 'America/North_Dakota/Beulah', 'America/North_Dakota/Center', 'America/North_Dakota/New_Salem', 'America/Nuuk', 'America/Ojinaga', 'America/Panama', 'America/Pangnirtung', 'America/Paramaribo', 'America/Phoenix', 'America/Port-au-Prince', 'America/Port_of_Spain', 'America/Porto_Acre', 'America/Porto_Velho', 'America/Puerto_Rico', 'America/Punta_Arenas', 'America/Rainy_River', 'America/Rankin_Inlet', 'America/Recife', 'America/Regina', 'America/Resolute', 'America/Rio_Branco', 'America/Rosario', 'America/Santa_Isabel', 'America/Santarem', 'America/Santiago', 'America/Santo_Domingo', 'America/Sao_Paulo', 'America/Scoresbysund', 'America/Shiprock', 'America/Sitka', 'America/St_Barthelemy', 'America/St_Johns', 'America/St_Kitts', 'America/St_Lucia', 'America/St_Thomas', 'America/St_Vincent', 'America/Swift_Current', 'America/Tegucigalpa', 'America/Thule', 'America/Thunder_Bay', 'America/Tijuana', 'America/Toronto', 'America/Tortola', 'America/Vancouver', 'America/Virgin', 'America/Whitehorse', 'America/Winnipeg', 'America/Yakutat', 'America/Yellowknife', 'Antarctica/Casey', 'Antarctica/Davis', 'Antarctica/DumontDUrville', 'Antarctica/Macquarie', 'Antarctica/Mawson', 'Antarctica/McMurdo', 'Antarctica/Palmer', 'Antarctica/Rothera', 'Antarctica/South_Pole', 'Antarctica/Syowa', 'Antarctica/Troll', 'Antarctica/Vostok', 'Arctic/Longyearbyen', 'Asia/Aden', 'Asia/Almaty', 'Asia/Amman', 'Asia/Anadyr', 'Asia/Aqtau', 'Asia/Aqtobe', 'Asia/Ashgabat', 'Asia/Ashkhabad', 'Asia/Atyrau', 'Asia/Baghdad', 'Asia/Bahrain', 'Asia/Baku', 'Asia/Bangkok', 'Asia/Barnaul', 'Asia/Beirut', 'Asia/Bishkek', 'Asia/Brunei', 'Asia/Calcutta', 'Asia/Chita', 'Asia/Choibalsan', 'Asia/Chongqing', 'Asia/Chungking', 'Asia/Colombo', 'Asia/Dacca', 'Asia/Damascus', 'Asia/Dhaka', 'Asia/Dili', 'Asia/Dubai', 'Asia/Dushanbe', 'Asia/Famagusta', 'Asia/Gaza', 'Asia/Harbin', 'Asia/Hebron', 'Asia/Ho_Chi_Minh', 'Asia/Hong_Kong', 'Asia/Hovd', 'Asia/Irkutsk', 'Asia/Istanbul', 'Asia/Jakarta', 'Asia/Jayapura', 'Asia/Jerusalem', 'Asia/Kabul', 'Asia/Kamchatka', 'Asia/Karachi', 'Asia/Kashgar', 'Asia/Kathmandu', 'Asia/Katmandu', 'Asia/Khandyga', 'Asia/Kolkata', 'Asia/Krasnoyarsk', 'Asia/Kuala_Lumpur', 'Asia/Kuching', 'Asia/Kuwait', 'Asia/Macao', 'Asia/Macau', 'Asia/Magadan', 'Asia/Makassar', 'Asia/Manila', 'Asia/Muscat', 'Asia/Nicosia', 'Asia/Novokuznetsk', 'Asia/Novosibirsk', 'Asia/Omsk', 'Asia/Oral', 'Asia/Phnom_Penh', 'Asia/Pontianak', 'Asia/Pyongyang', 'Asia/Qatar', 'Asia/Qostanay', 'Asia/Qyzylorda', 'Asia/Rangoon', 'Asia/Riyadh', 'Asia/Saigon', 'Asia/Sakhalin', 'Asia/Samarkand', 'Asia/Seoul', 'Asia/Shanghai', 'Asia/Singapore', 'Asia/Srednekolymsk', 'Asia/Taipei', 'Asia/Tashkent', 'Asia/Tbilisi', 'Asia/Tehran', 'Asia/Tel_Aviv', 'Asia/Thimbu', 'Asia/Thimphu', 'Asia/Tokyo', 'Asia/Tomsk', 'Asia/Ujung_Pandang', 'Asia/Ulaanbaatar', 'Asia/Ulan_Bator', 'Asia/Urumqi', 'Asia/Ust-Nera', 'Asia/Vientiane', 'Asia/Vladivostok', 'Asia/Yakutsk', 'Asia/Yangon', 'Asia/Yekaterinburg', 'Asia/Yerevan', 'Atlantic/Azores', 'Atlantic/Bermuda', 'Atlantic/Canary', 'Atlantic/Cape_Verde', 'Atlantic/Faeroe', 'Atlantic/Faroe', 'Atlantic/Jan_Mayen', 'Atlantic/Madeira', 'Atlantic/Reykjavik', 'Atlantic/South_Georgia', 'Atlantic/St_Helena', 'Atlantic/Stanley', 'Australia/ACT', 'Australia/Adelaide', 'Australia/Brisbane', 'Australia/Broken_Hill', 'Australia/Canberra', 'Australia/Currie', 'Australia/Darwin', 'Australia/Eucla', 'Australia/Hobart', 'Australia/LHI', 'Australia/Lindeman', 'Australia/Lord_Howe', 'Australia/Melbourne', 'Australia/NSW', 'Australia/North', 'Australia/Perth', 'Australia/Queensland', 'Australia/South', 'Australia/Sydney', 'Australia/Tasmania', 'Australia/Victoria', 'Australia/West', 'Australia/Yancowinna', 'Brazil/Acre', 'Brazil/DeNoronha', 'Brazil/East', 'Brazil/West', 'CET', 'CST6CDT', 'Canada/Atlantic', 'Canada/Central', 'Canada/Eastern', 'Canada/Mountain', 'Canada/Newfoundland', 'Canada/Pacific', 'Canada/Saskatchewan', 'Canada/Yukon', 'Chile/Continental', 'Chile/EasterIsland', 'Cuba', 'EET', 'EST', 'EST5EDT', 'Egypt', 'Eire', 'Etc/GMT', 'Etc/GMT+0', 'Etc/GMT+1', 'Etc/GMT+10', 'Etc/GMT+11', 'Etc/GMT+12', 'Etc/GMT+2', 'Etc/GMT+3', 'Etc/GMT+4', 'Etc/GMT+5', 'Etc/GMT+6', 'Etc/GMT+7', 'Etc/GMT+8', 'Etc/GMT+9', 'Etc/GMT-0', 'Etc/GMT-1', 'Etc/GMT-10', 'Etc/GMT-11', 'Etc/GMT-12', 'Etc/GMT-13', 'Etc/GMT-14', 'Etc/GMT-2', 'Etc/GMT-3', 'Etc/GMT-4', 'Etc/GMT-5', 'Etc/GMT-6', 'Etc/GMT-7', 'Etc/GMT-8', 'Etc/GMT-9', 'Etc/GMT0', 'Etc/Greenwich', 'Etc/UCT', 'Etc/UTC', 'Etc/Universal', 'Etc/Zulu', 'Europe/Amsterdam', 'Europe/Andorra', 'Europe/Astrakhan', 'Europe/Athens', 'Europe/Belfast', 'Europe/Belgrade', 'Europe/Berlin', 'Europe/Bratislava', 'Europe/Brussels', 'Europe/Bucharest', 'Europe/Budapest', 'Europe/Busingen', 'Europe/Chisinau', 'Europe/Copenhagen', 'Europe/Dublin', 'Europe/Gibraltar', 'Europe/Guernsey', 'Europe/Helsinki', 'Europe/Isle_of_Man', 'Europe/Istanbul', 'Europe/Jersey', 'Europe/Kaliningrad', 'Europe/Kiev', 'Europe/Kirov', 'Europe/Lisbon', 'Europe/Ljubljana', 'Europe/London', 'Europe/Luxembourg', 'Europe/Madrid', 'Europe/Malta', 'Europe/Mariehamn', 'Europe/Minsk', 'Europe/Monaco', 'Europe/Moscow', 'Europe/Nicosia', 'Europe/Oslo', 'Europe/Paris', 'Europe/Podgorica', 'Europe/Prague', 'Europe/Riga', 'Europe/Rome', 'Europe/Samara', 'Europe/San_Marino', 'Europe/Sarajevo', 'Europe/Saratov', 'Europe/Simferopol', 'Europe/Skopje', 'Europe/Sofia', 'Europe/Stockholm', 'Europe/Tallinn', 'Europe/Tirane', 'Europe/Tiraspol', 'Europe/Ulyanovsk', 'Europe/Uzhgorod', 'Europe/Vaduz', 'Europe/Vatican', 'Europe/Vienna', 'Europe/Vilnius', 'Europe/Volgograd', 'Europe/Warsaw', 'Europe/Zagreb', 'Europe/Zaporozhye', 'Europe/Zurich', 'GB', 'GB-Eire', 'GMT', 'GMT+0', 'GMT-0', 'GMT0', 'Greenwich', 'HST', 'Hongkong', 'Iceland', 'Indian/Antananarivo', 'Indian/Chagos', 'Indian/Christmas', 'Indian/Cocos', 'Indian/Comoro', 'Indian/Kerguelen', 'Indian/Mahe', 'Indian/Maldives', 'Indian/Mauritius', 'Indian/Mayotte', 'Indian/Reunion', 'Iran', 'Israel', 'Jamaica', 'Japan', 'Kwajalein', 'Libya', 'MET', 'MST', 'MST7MDT', 'Mexico/BajaNorte', 'Mexico/BajaSur', 'Mexico/General', 'NZ', 'NZ-CHAT', 'Navajo', 'PRC', 'PST8PDT', 'Pacific/Apia', 'Pacific/Auckland', 'Pacific/Bougainville', 'Pacific/Chatham', 'Pacific/Chuuk', 'Pacific/Easter', 'Pacific/Efate', 'Pacific/Enderbury', 'Pacific/Fakaofo', 'Pacific/Fiji', 'Pacific/Funafuti', 'Pacific/Galapagos', 'Pacific/Gambier', 'Pacific/Guadalcanal', 'Pacific/Guam', 'Pacific/Honolulu', 'Pacific/Johnston', 'Pacific/Kanton', 'Pacific/Kiritimati', 'Pacific/Kosrae', 'Pacific/Kwajalein', 'Pacific/Majuro', 'Pacific/Marquesas', 'Pacific/Midway', 'Pacific/Nauru', 'Pacific/Niue', 'Pacific/Norfolk', 'Pacific/Noumea', 'Pacific/Pago_Pago', 'Pacific/Palau', 'Pacific/Pitcairn', 'Pacific/Pohnpei', 'Pacific/Ponape', 'Pacific/Port_Moresby', 'Pacific/Rarotonga', 'Pacific/Saipan', 'Pacific/Samoa', 'Pacific/Tahiti', 'Pacific/Tarawa', 'Pacific/Tongatapu', 'Pacific/Truk', 'Pacific/Wake', 'Pacific/Wallis', 'Pacific/Yap', 'Poland', 'Portugal', 'ROC', 'ROK', 'Singapore', 'Turkey', 'UCT', 'US/Alaska', 'US/Aleutian', 'US/Arizona', 'US/Central', 'US/East-Indiana', 'US/Eastern', 'US/Hawaii', 'US/Indiana-Starke', 'US/Michigan', 'US/Mountain', 'US/Pacific', 'US/Samoa', 'UTC', 'Universal', 'W-SU', 'WET', 'Zulu']"
      ]
     },
     "execution_count": 17,
     "metadata": {},
     "output_type": "execute_result"
    }
   ],
   "source": [
    "# To get all the timezone strings : \n",
    "\n",
    "from pytz import all_timezones\n",
    "all_timezones"
   ]
  },
  {
   "cell_type": "code",
   "execution_count": 22,
   "id": "aa42cb52",
   "metadata": {},
   "outputs": [
    {
     "data": {
      "text/html": [
       "<div>\n",
       "<style scoped>\n",
       "    .dataframe tbody tr th:only-of-type {\n",
       "        vertical-align: middle;\n",
       "    }\n",
       "\n",
       "    .dataframe tbody tr th {\n",
       "        vertical-align: top;\n",
       "    }\n",
       "\n",
       "    .dataframe thead th {\n",
       "        text-align: right;\n",
       "    }\n",
       "</style>\n",
       "<table border=\"1\" class=\"dataframe\">\n",
       "  <thead>\n",
       "    <tr style=\"text-align: right;\">\n",
       "      <th></th>\n",
       "      <th>Open</th>\n",
       "    </tr>\n",
       "    <tr>\n",
       "      <th>Date</th>\n",
       "      <th></th>\n",
       "    </tr>\n",
       "  </thead>\n",
       "  <tbody>\n",
       "    <tr>\n",
       "      <th>2022-02-21 00:00:00+05:30</th>\n",
       "      <td>555.750000</td>\n",
       "    </tr>\n",
       "    <tr>\n",
       "      <th>2022-02-22 00:00:00+05:30</th>\n",
       "      <td>556.250000</td>\n",
       "    </tr>\n",
       "    <tr>\n",
       "      <th>2022-02-23 00:00:00+05:30</th>\n",
       "      <td>569.200012</td>\n",
       "    </tr>\n",
       "    <tr>\n",
       "      <th>2022-02-24 00:00:00+05:30</th>\n",
       "      <td>548.000000</td>\n",
       "    </tr>\n",
       "    <tr>\n",
       "      <th>2022-02-25 00:00:00+05:30</th>\n",
       "      <td>548.000000</td>\n",
       "    </tr>\n",
       "  </tbody>\n",
       "</table>\n",
       "</div>"
      ],
      "text/plain": [
       "                                 Open\n",
       "Date                                 \n",
       "2022-02-21 00:00:00+05:30  555.750000\n",
       "2022-02-22 00:00:00+05:30  556.250000\n",
       "2022-02-23 00:00:00+05:30  569.200012\n",
       "2022-02-24 00:00:00+05:30  548.000000\n",
       "2022-02-25 00:00:00+05:30  548.000000"
      ]
     },
     "execution_count": 22,
     "metadata": {},
     "output_type": "execute_result"
    }
   ],
   "source": [
    "# Covert the dates to Indian Standard time\n",
    "\n",
    "data = data.tz_convert(tz='Asia/Kolkata')\n",
    "data"
   ]
  },
  {
   "cell_type": "markdown",
   "id": "61a0fa0e",
   "metadata": {},
   "source": [
    "**We converted the timezone to Asia/Kokata timezone.**"
   ]
  },
  {
   "cell_type": "markdown",
   "id": "8598097c",
   "metadata": {},
   "source": [
    "# Shifting Operation :"
   ]
  },
  {
   "cell_type": "code",
   "execution_count": 23,
   "id": "3afd9702",
   "metadata": {},
   "outputs": [
    {
     "data": {
      "text/html": [
       "<div>\n",
       "<style scoped>\n",
       "    .dataframe tbody tr th:only-of-type {\n",
       "        vertical-align: middle;\n",
       "    }\n",
       "\n",
       "    .dataframe tbody tr th {\n",
       "        vertical-align: top;\n",
       "    }\n",
       "\n",
       "    .dataframe thead th {\n",
       "        text-align: right;\n",
       "    }\n",
       "</style>\n",
       "<table border=\"1\" class=\"dataframe\">\n",
       "  <thead>\n",
       "    <tr style=\"text-align: right;\">\n",
       "      <th></th>\n",
       "      <th>Open</th>\n",
       "    </tr>\n",
       "    <tr>\n",
       "      <th>Date</th>\n",
       "      <th></th>\n",
       "    </tr>\n",
       "  </thead>\n",
       "  <tbody>\n",
       "    <tr>\n",
       "      <th>2022-02-21 00:00:00+05:30</th>\n",
       "      <td>555.750000</td>\n",
       "    </tr>\n",
       "    <tr>\n",
       "      <th>2022-02-22 00:00:00+05:30</th>\n",
       "      <td>556.250000</td>\n",
       "    </tr>\n",
       "    <tr>\n",
       "      <th>2022-02-23 00:00:00+05:30</th>\n",
       "      <td>569.200012</td>\n",
       "    </tr>\n",
       "    <tr>\n",
       "      <th>2022-02-24 00:00:00+05:30</th>\n",
       "      <td>548.000000</td>\n",
       "    </tr>\n",
       "    <tr>\n",
       "      <th>2022-02-25 00:00:00+05:30</th>\n",
       "      <td>548.000000</td>\n",
       "    </tr>\n",
       "  </tbody>\n",
       "</table>\n",
       "</div>"
      ],
      "text/plain": [
       "                                 Open\n",
       "Date                                 \n",
       "2022-02-21 00:00:00+05:30  555.750000\n",
       "2022-02-22 00:00:00+05:30  556.250000\n",
       "2022-02-23 00:00:00+05:30  569.200012\n",
       "2022-02-24 00:00:00+05:30  548.000000\n",
       "2022-02-25 00:00:00+05:30  548.000000"
      ]
     },
     "execution_count": 23,
     "metadata": {},
     "output_type": "execute_result"
    }
   ],
   "source": [
    "data"
   ]
  },
  {
   "cell_type": "code",
   "execution_count": 24,
   "id": "be1fdd23",
   "metadata": {},
   "outputs": [
    {
     "data": {
      "text/html": [
       "<div>\n",
       "<style scoped>\n",
       "    .dataframe tbody tr th:only-of-type {\n",
       "        vertical-align: middle;\n",
       "    }\n",
       "\n",
       "    .dataframe tbody tr th {\n",
       "        vertical-align: top;\n",
       "    }\n",
       "\n",
       "    .dataframe thead th {\n",
       "        text-align: right;\n",
       "    }\n",
       "</style>\n",
       "<table border=\"1\" class=\"dataframe\">\n",
       "  <thead>\n",
       "    <tr style=\"text-align: right;\">\n",
       "      <th></th>\n",
       "      <th>Open</th>\n",
       "    </tr>\n",
       "    <tr>\n",
       "      <th>Date</th>\n",
       "      <th></th>\n",
       "    </tr>\n",
       "  </thead>\n",
       "  <tbody>\n",
       "    <tr>\n",
       "      <th>2022-02-21 00:00:00+05:30</th>\n",
       "      <td>NaN</td>\n",
       "    </tr>\n",
       "    <tr>\n",
       "      <th>2022-02-22 00:00:00+05:30</th>\n",
       "      <td>555.750000</td>\n",
       "    </tr>\n",
       "    <tr>\n",
       "      <th>2022-02-23 00:00:00+05:30</th>\n",
       "      <td>556.250000</td>\n",
       "    </tr>\n",
       "    <tr>\n",
       "      <th>2022-02-24 00:00:00+05:30</th>\n",
       "      <td>569.200012</td>\n",
       "    </tr>\n",
       "    <tr>\n",
       "      <th>2022-02-25 00:00:00+05:30</th>\n",
       "      <td>548.000000</td>\n",
       "    </tr>\n",
       "  </tbody>\n",
       "</table>\n",
       "</div>"
      ],
      "text/plain": [
       "                                 Open\n",
       "Date                                 \n",
       "2022-02-21 00:00:00+05:30         NaN\n",
       "2022-02-22 00:00:00+05:30  555.750000\n",
       "2022-02-23 00:00:00+05:30  556.250000\n",
       "2022-02-24 00:00:00+05:30  569.200012\n",
       "2022-02-25 00:00:00+05:30  548.000000"
      ]
     },
     "execution_count": 24,
     "metadata": {},
     "output_type": "execute_result"
    }
   ],
   "source": [
    "data.shift(1)"
   ]
  },
  {
   "cell_type": "markdown",
   "id": "0bcb2575",
   "metadata": {},
   "source": [
    "Here the open values are shifted to 1 row."
   ]
  },
  {
   "cell_type": "code",
   "execution_count": 25,
   "id": "6d4f5a6a",
   "metadata": {},
   "outputs": [
    {
     "data": {
      "text/html": [
       "<div>\n",
       "<style scoped>\n",
       "    .dataframe tbody tr th:only-of-type {\n",
       "        vertical-align: middle;\n",
       "    }\n",
       "\n",
       "    .dataframe tbody tr th {\n",
       "        vertical-align: top;\n",
       "    }\n",
       "\n",
       "    .dataframe thead th {\n",
       "        text-align: right;\n",
       "    }\n",
       "</style>\n",
       "<table border=\"1\" class=\"dataframe\">\n",
       "  <thead>\n",
       "    <tr style=\"text-align: right;\">\n",
       "      <th></th>\n",
       "      <th>Open</th>\n",
       "    </tr>\n",
       "    <tr>\n",
       "      <th>Date</th>\n",
       "      <th></th>\n",
       "    </tr>\n",
       "  </thead>\n",
       "  <tbody>\n",
       "    <tr>\n",
       "      <th>2022-02-21 00:00:00+05:30</th>\n",
       "      <td>556.250000</td>\n",
       "    </tr>\n",
       "    <tr>\n",
       "      <th>2022-02-22 00:00:00+05:30</th>\n",
       "      <td>569.200012</td>\n",
       "    </tr>\n",
       "    <tr>\n",
       "      <th>2022-02-23 00:00:00+05:30</th>\n",
       "      <td>548.000000</td>\n",
       "    </tr>\n",
       "    <tr>\n",
       "      <th>2022-02-24 00:00:00+05:30</th>\n",
       "      <td>548.000000</td>\n",
       "    </tr>\n",
       "    <tr>\n",
       "      <th>2022-02-25 00:00:00+05:30</th>\n",
       "      <td>NaN</td>\n",
       "    </tr>\n",
       "  </tbody>\n",
       "</table>\n",
       "</div>"
      ],
      "text/plain": [
       "                                 Open\n",
       "Date                                 \n",
       "2022-02-21 00:00:00+05:30  556.250000\n",
       "2022-02-22 00:00:00+05:30  569.200012\n",
       "2022-02-23 00:00:00+05:30  548.000000\n",
       "2022-02-24 00:00:00+05:30  548.000000\n",
       "2022-02-25 00:00:00+05:30         NaN"
      ]
     },
     "execution_count": 25,
     "metadata": {},
     "output_type": "execute_result"
    }
   ],
   "source": [
    "data.shift(-1)"
   ]
  },
  {
   "cell_type": "code",
   "execution_count": 29,
   "id": "e173ab4e",
   "metadata": {},
   "outputs": [
    {
     "data": {
      "text/html": [
       "<div>\n",
       "<style scoped>\n",
       "    .dataframe tbody tr th:only-of-type {\n",
       "        vertical-align: middle;\n",
       "    }\n",
       "\n",
       "    .dataframe tbody tr th {\n",
       "        vertical-align: top;\n",
       "    }\n",
       "\n",
       "    .dataframe thead th {\n",
       "        text-align: right;\n",
       "    }\n",
       "</style>\n",
       "<table border=\"1\" class=\"dataframe\">\n",
       "  <thead>\n",
       "    <tr style=\"text-align: right;\">\n",
       "      <th></th>\n",
       "      <th>Open</th>\n",
       "      <th>Close</th>\n",
       "    </tr>\n",
       "    <tr>\n",
       "      <th>Date</th>\n",
       "      <th></th>\n",
       "      <th></th>\n",
       "    </tr>\n",
       "  </thead>\n",
       "  <tbody>\n",
       "    <tr>\n",
       "      <th>2022-02-21 00:00:00+05:30</th>\n",
       "      <td>555.750000</td>\n",
       "      <td>NaN</td>\n",
       "    </tr>\n",
       "    <tr>\n",
       "      <th>2022-02-22 00:00:00+05:30</th>\n",
       "      <td>556.250000</td>\n",
       "      <td>555.750000</td>\n",
       "    </tr>\n",
       "    <tr>\n",
       "      <th>2022-02-23 00:00:00+05:30</th>\n",
       "      <td>569.200012</td>\n",
       "      <td>556.250000</td>\n",
       "    </tr>\n",
       "    <tr>\n",
       "      <th>2022-02-24 00:00:00+05:30</th>\n",
       "      <td>548.000000</td>\n",
       "      <td>569.200012</td>\n",
       "    </tr>\n",
       "    <tr>\n",
       "      <th>2022-02-25 00:00:00+05:30</th>\n",
       "      <td>548.000000</td>\n",
       "      <td>548.000000</td>\n",
       "    </tr>\n",
       "  </tbody>\n",
       "</table>\n",
       "</div>"
      ],
      "text/plain": [
       "                                 Open       Close\n",
       "Date                                             \n",
       "2022-02-21 00:00:00+05:30  555.750000         NaN\n",
       "2022-02-22 00:00:00+05:30  556.250000  555.750000\n",
       "2022-02-23 00:00:00+05:30  569.200012  556.250000\n",
       "2022-02-24 00:00:00+05:30  548.000000  569.200012\n",
       "2022-02-25 00:00:00+05:30  548.000000  548.000000"
      ]
     },
     "execution_count": 29,
     "metadata": {},
     "output_type": "execute_result"
    }
   ],
   "source": [
    "# use case :\n",
    "data[\"Close\"] = data[\"Open\"].shift(1)\n",
    "data"
   ]
  },
  {
   "cell_type": "code",
   "execution_count": 30,
   "id": "5cf9e644",
   "metadata": {},
   "outputs": [
    {
     "name": "stderr",
     "output_type": "stream",
     "text": [
      "C:\\Users\\PRIYAM\\AppData\\Local\\Temp\\ipykernel_13532\\2849508399.py:1: FutureWarning: tshift is deprecated and will be removed in a future version. Please use shift instead.\n",
      "  data.tshift(1)\n"
     ]
    },
    {
     "data": {
      "text/html": [
       "<div>\n",
       "<style scoped>\n",
       "    .dataframe tbody tr th:only-of-type {\n",
       "        vertical-align: middle;\n",
       "    }\n",
       "\n",
       "    .dataframe tbody tr th {\n",
       "        vertical-align: top;\n",
       "    }\n",
       "\n",
       "    .dataframe thead th {\n",
       "        text-align: right;\n",
       "    }\n",
       "</style>\n",
       "<table border=\"1\" class=\"dataframe\">\n",
       "  <thead>\n",
       "    <tr style=\"text-align: right;\">\n",
       "      <th></th>\n",
       "      <th>Open</th>\n",
       "      <th>Close</th>\n",
       "    </tr>\n",
       "    <tr>\n",
       "      <th>Date</th>\n",
       "      <th></th>\n",
       "      <th></th>\n",
       "    </tr>\n",
       "  </thead>\n",
       "  <tbody>\n",
       "    <tr>\n",
       "      <th>2022-02-22 00:00:00+05:30</th>\n",
       "      <td>555.750000</td>\n",
       "      <td>NaN</td>\n",
       "    </tr>\n",
       "    <tr>\n",
       "      <th>2022-02-23 00:00:00+05:30</th>\n",
       "      <td>556.250000</td>\n",
       "      <td>555.750000</td>\n",
       "    </tr>\n",
       "    <tr>\n",
       "      <th>2022-02-24 00:00:00+05:30</th>\n",
       "      <td>569.200012</td>\n",
       "      <td>556.250000</td>\n",
       "    </tr>\n",
       "    <tr>\n",
       "      <th>2022-02-25 00:00:00+05:30</th>\n",
       "      <td>548.000000</td>\n",
       "      <td>569.200012</td>\n",
       "    </tr>\n",
       "    <tr>\n",
       "      <th>2022-02-26 00:00:00+05:30</th>\n",
       "      <td>548.000000</td>\n",
       "      <td>548.000000</td>\n",
       "    </tr>\n",
       "  </tbody>\n",
       "</table>\n",
       "</div>"
      ],
      "text/plain": [
       "                                 Open       Close\n",
       "Date                                             \n",
       "2022-02-22 00:00:00+05:30  555.750000         NaN\n",
       "2022-02-23 00:00:00+05:30  556.250000  555.750000\n",
       "2022-02-24 00:00:00+05:30  569.200012  556.250000\n",
       "2022-02-25 00:00:00+05:30  548.000000  569.200012\n",
       "2022-02-26 00:00:00+05:30  548.000000  548.000000"
      ]
     },
     "execution_count": 30,
     "metadata": {},
     "output_type": "execute_result"
    }
   ],
   "source": [
    "data.tshift(1)"
   ]
  },
  {
   "cell_type": "markdown",
   "id": "d49fc879",
   "metadata": {},
   "source": [
    "As we can see it only shifted the date bus the other columns values remained as it is."
   ]
  },
  {
   "cell_type": "code",
   "execution_count": null,
   "id": "3de48bd0",
   "metadata": {},
   "outputs": [],
   "source": []
  }
 ],
 "metadata": {
  "kernelspec": {
   "display_name": "Python 3 (ipykernel)",
   "language": "python",
   "name": "python3"
  },
  "language_info": {
   "codemirror_mode": {
    "name": "ipython",
    "version": 3
   },
   "file_extension": ".py",
   "mimetype": "text/x-python",
   "name": "python",
   "nbconvert_exporter": "python",
   "pygments_lexer": "ipython3",
   "version": "3.9.12"
  }
 },
 "nbformat": 4,
 "nbformat_minor": 5
}
